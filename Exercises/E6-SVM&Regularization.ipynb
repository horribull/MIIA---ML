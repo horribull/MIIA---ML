{
 "cells": [
  {
   "cell_type": "markdown",
   "metadata": {},
   "source": [
    "# Exercise 6\n",
    "\n",
    "## SVM & Regularization\n",
    "\n",
    "\n",
    "For this homework we consider a set of observations on a number of red and white wine varieties involving their chemical properties and ranking by tasters. Wine industry shows a recent growth spurt as social drinking is on the rise. The price of wine depends on a rather abstract concept of wine appreciation by wine tasters, opinion among whom may have a high degree of variability. Pricing of wine depends on such a volatile factor to some extent. Another key factor in wine certification and quality assessment is physicochemical tests which are laboratory-based and takes into account factors like acidity, pH level, presence of sugar and other chemical properties. For the wine market, it would be of interest if human quality of tasting can be related to the chemical properties of wine so that certification and quality assessment and assurance process is more controlled.\n",
    "\n",
    "Two datasets are available of which one dataset is on red wine and have 1599 different varieties and the other is on white wine and have 4898 varieties. All wines are produced in a particular area of Portugal. Data are collected on 12 different properties of the wines one of which is Quality, based on sensory data, and the rest are on chemical properties of the wines including density, acidity, alcohol content etc. All chemical properties of wines are continuous variables. Quality is an ordinal variable with possible ranking from 1 (worst) to 10 (best). Each variety of wine is tasted by three independent tasters and the final rank assigned is the median rank given by the tasters.\n",
    "\n",
    "A predictive model developed on this data is expected to provide guidance to vineyards regarding quality and price expected on their produce without heavy reliance on volatility of wine tasters."
   ]
  },
  {
   "cell_type": "code",
   "execution_count": 1,
   "metadata": {},
   "outputs": [],
   "source": [
    "import pandas as pd\n",
    "import numpy as np"
   ]
  },
  {
   "cell_type": "code",
   "execution_count": 2,
   "metadata": {},
   "outputs": [],
   "source": [
    "data_r = pd.read_csv('https://github.com/albahnsen/PracticalMachineLearningClass/raw/master/datasets/Wine_data_red.csv')\n",
    "data_w = pd.read_csv('https://github.com/albahnsen/PracticalMachineLearningClass/raw/master/datasets/Wine_data_white.csv')"
   ]
  },
  {
   "cell_type": "code",
   "execution_count": 3,
   "metadata": {},
   "outputs": [
    {
     "data": {
      "text/html": [
       "<div>\n",
       "<style scoped>\n",
       "    .dataframe tbody tr th:only-of-type {\n",
       "        vertical-align: middle;\n",
       "    }\n",
       "\n",
       "    .dataframe tbody tr th {\n",
       "        vertical-align: top;\n",
       "    }\n",
       "\n",
       "    .dataframe thead th {\n",
       "        text-align: right;\n",
       "    }\n",
       "</style>\n",
       "<table border=\"1\" class=\"dataframe\">\n",
       "  <thead>\n",
       "    <tr style=\"text-align: right;\">\n",
       "      <th></th>\n",
       "      <th>fixed acidity</th>\n",
       "      <th>volatile acidity</th>\n",
       "      <th>citric acid</th>\n",
       "      <th>residual sugar</th>\n",
       "      <th>chlorides</th>\n",
       "      <th>free sulfur dioxide</th>\n",
       "      <th>total sulfur dioxide</th>\n",
       "      <th>density</th>\n",
       "      <th>pH</th>\n",
       "      <th>sulphates</th>\n",
       "      <th>alcohol</th>\n",
       "      <th>quality</th>\n",
       "      <th>type</th>\n",
       "    </tr>\n",
       "  </thead>\n",
       "  <tbody>\n",
       "    <tr>\n",
       "      <th>6213</th>\n",
       "      <td>7.5</td>\n",
       "      <td>0.63</td>\n",
       "      <td>0.27</td>\n",
       "      <td>2.0</td>\n",
       "      <td>0.083</td>\n",
       "      <td>17.0</td>\n",
       "      <td>91.0</td>\n",
       "      <td>0.99616</td>\n",
       "      <td>3.26</td>\n",
       "      <td>0.58</td>\n",
       "      <td>9.8</td>\n",
       "      <td>6</td>\n",
       "      <td>red</td>\n",
       "    </tr>\n",
       "    <tr>\n",
       "      <th>4735</th>\n",
       "      <td>6.0</td>\n",
       "      <td>0.17</td>\n",
       "      <td>0.36</td>\n",
       "      <td>1.7</td>\n",
       "      <td>0.042</td>\n",
       "      <td>14.0</td>\n",
       "      <td>61.0</td>\n",
       "      <td>0.99144</td>\n",
       "      <td>3.22</td>\n",
       "      <td>0.54</td>\n",
       "      <td>10.8</td>\n",
       "      <td>6</td>\n",
       "      <td>white</td>\n",
       "    </tr>\n",
       "    <tr>\n",
       "      <th>1257</th>\n",
       "      <td>6.4</td>\n",
       "      <td>0.17</td>\n",
       "      <td>0.27</td>\n",
       "      <td>6.7</td>\n",
       "      <td>0.036</td>\n",
       "      <td>88.0</td>\n",
       "      <td>223.0</td>\n",
       "      <td>0.99480</td>\n",
       "      <td>3.28</td>\n",
       "      <td>0.35</td>\n",
       "      <td>10.2</td>\n",
       "      <td>6</td>\n",
       "      <td>white</td>\n",
       "    </tr>\n",
       "    <tr>\n",
       "      <th>5553</th>\n",
       "      <td>9.7</td>\n",
       "      <td>0.55</td>\n",
       "      <td>0.17</td>\n",
       "      <td>2.9</td>\n",
       "      <td>0.087</td>\n",
       "      <td>20.0</td>\n",
       "      <td>53.0</td>\n",
       "      <td>1.00040</td>\n",
       "      <td>3.14</td>\n",
       "      <td>0.61</td>\n",
       "      <td>9.4</td>\n",
       "      <td>5</td>\n",
       "      <td>red</td>\n",
       "    </tr>\n",
       "    <tr>\n",
       "      <th>1880</th>\n",
       "      <td>7.7</td>\n",
       "      <td>0.30</td>\n",
       "      <td>0.42</td>\n",
       "      <td>14.3</td>\n",
       "      <td>0.045</td>\n",
       "      <td>45.0</td>\n",
       "      <td>213.0</td>\n",
       "      <td>0.99910</td>\n",
       "      <td>3.18</td>\n",
       "      <td>0.63</td>\n",
       "      <td>9.2</td>\n",
       "      <td>5</td>\n",
       "      <td>white</td>\n",
       "    </tr>\n",
       "  </tbody>\n",
       "</table>\n",
       "</div>"
      ],
      "text/plain": [
       "      fixed acidity  volatile acidity  citric acid  residual sugar  chlorides  \\\n",
       "6213            7.5              0.63         0.27             2.0      0.083   \n",
       "4735            6.0              0.17         0.36             1.7      0.042   \n",
       "1257            6.4              0.17         0.27             6.7      0.036   \n",
       "5553            9.7              0.55         0.17             2.9      0.087   \n",
       "1880            7.7              0.30         0.42            14.3      0.045   \n",
       "\n",
       "      free sulfur dioxide  total sulfur dioxide  density    pH  sulphates  \\\n",
       "6213                 17.0                  91.0  0.99616  3.26       0.58   \n",
       "4735                 14.0                  61.0  0.99144  3.22       0.54   \n",
       "1257                 88.0                 223.0  0.99480  3.28       0.35   \n",
       "5553                 20.0                  53.0  1.00040  3.14       0.61   \n",
       "1880                 45.0                 213.0  0.99910  3.18       0.63   \n",
       "\n",
       "      alcohol  quality   type  \n",
       "6213      9.8        6    red  \n",
       "4735     10.8        6  white  \n",
       "1257     10.2        6  white  \n",
       "5553      9.4        5    red  \n",
       "1880      9.2        5  white  "
      ]
     },
     "execution_count": 3,
     "metadata": {},
     "output_type": "execute_result"
    }
   ],
   "source": [
    "data = data_w.assign(type = 'white')\n",
    "\n",
    "data = data.append(data_r.assign(type = 'red'), ignore_index=True)\n",
    "data.sample(5)"
   ]
  },
  {
   "cell_type": "markdown",
   "metadata": {},
   "source": [
    "# Exercise 6.1\n",
    "\n",
    "Show the frecuency table of the quality by type of wine"
   ]
  },
  {
   "cell_type": "code",
   "execution_count": 4,
   "metadata": {},
   "outputs": [
    {
     "data": {
      "text/html": [
       "<div>\n",
       "<style scoped>\n",
       "    .dataframe tbody tr th:only-of-type {\n",
       "        vertical-align: middle;\n",
       "    }\n",
       "\n",
       "    .dataframe tbody tr th {\n",
       "        vertical-align: top;\n",
       "    }\n",
       "\n",
       "    .dataframe thead th {\n",
       "        text-align: right;\n",
       "    }\n",
       "</style>\n",
       "<table border=\"1\" class=\"dataframe\">\n",
       "  <thead>\n",
       "    <tr style=\"text-align: right;\">\n",
       "      <th></th>\n",
       "      <th>Type</th>\n",
       "      <th>Count</th>\n",
       "    </tr>\n",
       "  </thead>\n",
       "  <tbody>\n",
       "    <tr>\n",
       "      <th>0</th>\n",
       "      <td>white</td>\n",
       "      <td>4898</td>\n",
       "    </tr>\n",
       "    <tr>\n",
       "      <th>1</th>\n",
       "      <td>red</td>\n",
       "      <td>1599</td>\n",
       "    </tr>\n",
       "  </tbody>\n",
       "</table>\n",
       "</div>"
      ],
      "text/plain": [
       "    Type  Count\n",
       "0  white   4898\n",
       "1    red   1599"
      ]
     },
     "execution_count": 4,
     "metadata": {},
     "output_type": "execute_result"
    }
   ],
   "source": [
    "x = pd.value_counts(data.type).to_frame().reset_index()\n",
    "x.columns = ['Type','Count']\n",
    "x"
   ]
  },
  {
   "cell_type": "markdown",
   "metadata": {},
   "source": [
    "# SVM"
   ]
  },
  {
   "cell_type": "markdown",
   "metadata": {},
   "source": [
    "# Exercise 6.2\n",
    "\n",
    "* Standarized the features (not the quality)\n",
    "* Create a binary target for each type of wine\n",
    "* Create two Linear SVM's for the white and red wines, repectively.\n"
   ]
  },
  {
   "cell_type": "code",
   "execution_count": 5,
   "metadata": {},
   "outputs": [
    {
     "data": {
      "text/html": [
       "<div>\n",
       "<style scoped>\n",
       "    .dataframe tbody tr th:only-of-type {\n",
       "        vertical-align: middle;\n",
       "    }\n",
       "\n",
       "    .dataframe tbody tr th {\n",
       "        vertical-align: top;\n",
       "    }\n",
       "\n",
       "    .dataframe thead th {\n",
       "        text-align: right;\n",
       "    }\n",
       "</style>\n",
       "<table border=\"1\" class=\"dataframe\">\n",
       "  <thead>\n",
       "    <tr style=\"text-align: right;\">\n",
       "      <th></th>\n",
       "      <th>fixed acidity</th>\n",
       "      <th>volatile acidity</th>\n",
       "      <th>citric acid</th>\n",
       "      <th>residual sugar</th>\n",
       "      <th>chlorides</th>\n",
       "      <th>free sulfur dioxide</th>\n",
       "      <th>total sulfur dioxide</th>\n",
       "      <th>density</th>\n",
       "      <th>pH</th>\n",
       "      <th>sulphates</th>\n",
       "      <th>alcohol</th>\n",
       "      <th>quality</th>\n",
       "      <th>type</th>\n",
       "      <th>quality_bool</th>\n",
       "    </tr>\n",
       "  </thead>\n",
       "  <tbody>\n",
       "    <tr>\n",
       "      <th>4898</th>\n",
       "      <td>7.4</td>\n",
       "      <td>0.70</td>\n",
       "      <td>0.00</td>\n",
       "      <td>1.9</td>\n",
       "      <td>0.076</td>\n",
       "      <td>11.0</td>\n",
       "      <td>34.0</td>\n",
       "      <td>0.9978</td>\n",
       "      <td>3.51</td>\n",
       "      <td>0.56</td>\n",
       "      <td>9.4</td>\n",
       "      <td>5</td>\n",
       "      <td>red</td>\n",
       "      <td>False</td>\n",
       "    </tr>\n",
       "    <tr>\n",
       "      <th>4899</th>\n",
       "      <td>7.8</td>\n",
       "      <td>0.88</td>\n",
       "      <td>0.00</td>\n",
       "      <td>2.6</td>\n",
       "      <td>0.098</td>\n",
       "      <td>25.0</td>\n",
       "      <td>67.0</td>\n",
       "      <td>0.9968</td>\n",
       "      <td>3.20</td>\n",
       "      <td>0.68</td>\n",
       "      <td>9.8</td>\n",
       "      <td>5</td>\n",
       "      <td>red</td>\n",
       "      <td>False</td>\n",
       "    </tr>\n",
       "    <tr>\n",
       "      <th>4900</th>\n",
       "      <td>7.8</td>\n",
       "      <td>0.76</td>\n",
       "      <td>0.04</td>\n",
       "      <td>2.3</td>\n",
       "      <td>0.092</td>\n",
       "      <td>15.0</td>\n",
       "      <td>54.0</td>\n",
       "      <td>0.9970</td>\n",
       "      <td>3.26</td>\n",
       "      <td>0.65</td>\n",
       "      <td>9.8</td>\n",
       "      <td>5</td>\n",
       "      <td>red</td>\n",
       "      <td>False</td>\n",
       "    </tr>\n",
       "    <tr>\n",
       "      <th>4901</th>\n",
       "      <td>11.2</td>\n",
       "      <td>0.28</td>\n",
       "      <td>0.56</td>\n",
       "      <td>1.9</td>\n",
       "      <td>0.075</td>\n",
       "      <td>17.0</td>\n",
       "      <td>60.0</td>\n",
       "      <td>0.9980</td>\n",
       "      <td>3.16</td>\n",
       "      <td>0.58</td>\n",
       "      <td>9.8</td>\n",
       "      <td>6</td>\n",
       "      <td>red</td>\n",
       "      <td>False</td>\n",
       "    </tr>\n",
       "    <tr>\n",
       "      <th>4902</th>\n",
       "      <td>7.4</td>\n",
       "      <td>0.70</td>\n",
       "      <td>0.00</td>\n",
       "      <td>1.9</td>\n",
       "      <td>0.076</td>\n",
       "      <td>11.0</td>\n",
       "      <td>34.0</td>\n",
       "      <td>0.9978</td>\n",
       "      <td>3.51</td>\n",
       "      <td>0.56</td>\n",
       "      <td>9.4</td>\n",
       "      <td>5</td>\n",
       "      <td>red</td>\n",
       "      <td>False</td>\n",
       "    </tr>\n",
       "  </tbody>\n",
       "</table>\n",
       "</div>"
      ],
      "text/plain": [
       "      fixed acidity  volatile acidity  citric acid  residual sugar  chlorides  \\\n",
       "4898            7.4              0.70         0.00             1.9      0.076   \n",
       "4899            7.8              0.88         0.00             2.6      0.098   \n",
       "4900            7.8              0.76         0.04             2.3      0.092   \n",
       "4901           11.2              0.28         0.56             1.9      0.075   \n",
       "4902            7.4              0.70         0.00             1.9      0.076   \n",
       "\n",
       "      free sulfur dioxide  total sulfur dioxide  density    pH  sulphates  \\\n",
       "4898                 11.0                  34.0   0.9978  3.51       0.56   \n",
       "4899                 25.0                  67.0   0.9968  3.20       0.68   \n",
       "4900                 15.0                  54.0   0.9970  3.26       0.65   \n",
       "4901                 17.0                  60.0   0.9980  3.16       0.58   \n",
       "4902                 11.0                  34.0   0.9978  3.51       0.56   \n",
       "\n",
       "      alcohol  quality type  quality_bool  \n",
       "4898      9.4        5  red         False  \n",
       "4899      9.8        5  red         False  \n",
       "4900      9.8        5  red         False  \n",
       "4901      9.8        6  red         False  \n",
       "4902      9.4        5  red         False  "
      ]
     },
     "execution_count": 5,
     "metadata": {},
     "output_type": "execute_result"
    }
   ],
   "source": [
    "#Standarized the features (not the quality)\n",
    "data['quality_bool'] = data['quality'] > 6\n",
    "datared = data[data['type'] == 'red']\n",
    "datawhite = data[data['type'] == 'white']\n",
    "\n",
    "#Create a binary target for each type of wine\n",
    "data['type_bin'] = data['type'].replace({'white':1, 'red':0})\n",
    "\n",
    "datared.head()"
   ]
  },
  {
   "cell_type": "code",
   "execution_count": 33,
   "metadata": {},
   "outputs": [
    {
     "data": {
      "text/html": [
       "<div>\n",
       "<style scoped>\n",
       "    .dataframe tbody tr th:only-of-type {\n",
       "        vertical-align: middle;\n",
       "    }\n",
       "\n",
       "    .dataframe tbody tr th {\n",
       "        vertical-align: top;\n",
       "    }\n",
       "\n",
       "    .dataframe thead th {\n",
       "        text-align: right;\n",
       "    }\n",
       "</style>\n",
       "<table border=\"1\" class=\"dataframe\">\n",
       "  <thead>\n",
       "    <tr style=\"text-align: right;\">\n",
       "      <th></th>\n",
       "      <th>fixed acidity</th>\n",
       "      <th>volatile acidity</th>\n",
       "      <th>citric acid</th>\n",
       "      <th>residual sugar</th>\n",
       "      <th>chlorides</th>\n",
       "      <th>free sulfur dioxide</th>\n",
       "      <th>total sulfur dioxide</th>\n",
       "      <th>density</th>\n",
       "      <th>pH</th>\n",
       "      <th>sulphates</th>\n",
       "      <th>alcohol</th>\n",
       "      <th>quality</th>\n",
       "      <th>type</th>\n",
       "      <th>quality_bool</th>\n",
       "      <th>type_bin</th>\n",
       "    </tr>\n",
       "  </thead>\n",
       "  <tbody>\n",
       "    <tr>\n",
       "      <th>0</th>\n",
       "      <td>7.0</td>\n",
       "      <td>0.27</td>\n",
       "      <td>0.36</td>\n",
       "      <td>20.7</td>\n",
       "      <td>0.045</td>\n",
       "      <td>45.0</td>\n",
       "      <td>170.0</td>\n",
       "      <td>1.0010</td>\n",
       "      <td>3.00</td>\n",
       "      <td>0.45</td>\n",
       "      <td>8.8</td>\n",
       "      <td>6</td>\n",
       "      <td>white</td>\n",
       "      <td>False</td>\n",
       "      <td>1</td>\n",
       "    </tr>\n",
       "    <tr>\n",
       "      <th>1</th>\n",
       "      <td>6.3</td>\n",
       "      <td>0.30</td>\n",
       "      <td>0.34</td>\n",
       "      <td>1.6</td>\n",
       "      <td>0.049</td>\n",
       "      <td>14.0</td>\n",
       "      <td>132.0</td>\n",
       "      <td>0.9940</td>\n",
       "      <td>3.30</td>\n",
       "      <td>0.49</td>\n",
       "      <td>9.5</td>\n",
       "      <td>6</td>\n",
       "      <td>white</td>\n",
       "      <td>False</td>\n",
       "      <td>1</td>\n",
       "    </tr>\n",
       "    <tr>\n",
       "      <th>2</th>\n",
       "      <td>8.1</td>\n",
       "      <td>0.28</td>\n",
       "      <td>0.40</td>\n",
       "      <td>6.9</td>\n",
       "      <td>0.050</td>\n",
       "      <td>30.0</td>\n",
       "      <td>97.0</td>\n",
       "      <td>0.9951</td>\n",
       "      <td>3.26</td>\n",
       "      <td>0.44</td>\n",
       "      <td>10.1</td>\n",
       "      <td>6</td>\n",
       "      <td>white</td>\n",
       "      <td>False</td>\n",
       "      <td>1</td>\n",
       "    </tr>\n",
       "    <tr>\n",
       "      <th>3</th>\n",
       "      <td>7.2</td>\n",
       "      <td>0.23</td>\n",
       "      <td>0.32</td>\n",
       "      <td>8.5</td>\n",
       "      <td>0.058</td>\n",
       "      <td>47.0</td>\n",
       "      <td>186.0</td>\n",
       "      <td>0.9956</td>\n",
       "      <td>3.19</td>\n",
       "      <td>0.40</td>\n",
       "      <td>9.9</td>\n",
       "      <td>6</td>\n",
       "      <td>white</td>\n",
       "      <td>False</td>\n",
       "      <td>1</td>\n",
       "    </tr>\n",
       "    <tr>\n",
       "      <th>4</th>\n",
       "      <td>7.2</td>\n",
       "      <td>0.23</td>\n",
       "      <td>0.32</td>\n",
       "      <td>8.5</td>\n",
       "      <td>0.058</td>\n",
       "      <td>47.0</td>\n",
       "      <td>186.0</td>\n",
       "      <td>0.9956</td>\n",
       "      <td>3.19</td>\n",
       "      <td>0.40</td>\n",
       "      <td>9.9</td>\n",
       "      <td>6</td>\n",
       "      <td>white</td>\n",
       "      <td>False</td>\n",
       "      <td>1</td>\n",
       "    </tr>\n",
       "  </tbody>\n",
       "</table>\n",
       "</div>"
      ],
      "text/plain": [
       "   fixed acidity  volatile acidity  citric acid  residual sugar  chlorides  \\\n",
       "0            7.0              0.27         0.36            20.7      0.045   \n",
       "1            6.3              0.30         0.34             1.6      0.049   \n",
       "2            8.1              0.28         0.40             6.9      0.050   \n",
       "3            7.2              0.23         0.32             8.5      0.058   \n",
       "4            7.2              0.23         0.32             8.5      0.058   \n",
       "\n",
       "   free sulfur dioxide  total sulfur dioxide  density    pH  sulphates  \\\n",
       "0                 45.0                 170.0   1.0010  3.00       0.45   \n",
       "1                 14.0                 132.0   0.9940  3.30       0.49   \n",
       "2                 30.0                  97.0   0.9951  3.26       0.44   \n",
       "3                 47.0                 186.0   0.9956  3.19       0.40   \n",
       "4                 47.0                 186.0   0.9956  3.19       0.40   \n",
       "\n",
       "   alcohol  quality   type  quality_bool  type_bin  \n",
       "0      8.8        6  white         False         1  \n",
       "1      9.5        6  white         False         1  \n",
       "2     10.1        6  white         False         1  \n",
       "3      9.9        6  white         False         1  \n",
       "4      9.9        6  white         False         1  "
      ]
     },
     "execution_count": 33,
     "metadata": {},
     "output_type": "execute_result"
    }
   ],
   "source": [
    "data.head()"
   ]
  },
  {
   "cell_type": "code",
   "execution_count": 6,
   "metadata": {},
   "outputs": [
    {
     "data": {
      "text/plain": [
       "SVC(C=1.0, cache_size=200, class_weight=None, coef0=0.0,\n",
       "  decision_function_shape='ovr', degree=3, gamma='auto', kernel='linear',\n",
       "  max_iter=-1, probability=False, random_state=None, shrinking=True,\n",
       "  tol=0.001, verbose=False)"
      ]
     },
     "execution_count": 6,
     "metadata": {},
     "output_type": "execute_result"
    }
   ],
   "source": [
    "from sklearn.svm import SVC\n",
    "from sklearn.preprocessing import StandardScaler\n",
    "\n",
    "svm = SVC(kernel= 'linear')\n",
    "\n",
    "y1 = datawhite['quality_bool']\n",
    "x1 = datawhite.drop(['quality_bool', 'type', 'quality'],1)\n",
    "\n",
    "ss = StandardScaler(with_mean=True, with_std=True)\n",
    "ss.fit(x1.astype(np.float))\n",
    "x1 = ss.transform(x1.astype(np.float))\n",
    "ss.mean_, ss.scale_\n",
    "\n",
    "\n",
    "svm.fit(x1,y1)"
   ]
  },
  {
   "cell_type": "code",
   "execution_count": 7,
   "metadata": {},
   "outputs": [
    {
     "data": {
      "text/plain": [
       "SVC(C=1.0, cache_size=200, class_weight=None, coef0=0.0,\n",
       "  decision_function_shape='ovr', degree=3, gamma='auto', kernel='linear',\n",
       "  max_iter=-1, probability=False, random_state=None, shrinking=True,\n",
       "  tol=0.001, verbose=False)"
      ]
     },
     "execution_count": 7,
     "metadata": {},
     "output_type": "execute_result"
    }
   ],
   "source": [
    "svm2 = SVC(kernel= 'linear')\n",
    "\n",
    "y2 = datared['quality_bool']\n",
    "x2 = datared.drop(['quality_bool', 'type', 'quality'],1)\n",
    "\n",
    "ss = StandardScaler(with_mean=True, with_std=True)\n",
    "ss.fit(x2.astype(np.float))\n",
    "x2 = ss.transform(x2.astype(np.float))\n",
    "ss.mean_, ss.scale_\n",
    "\n",
    "svm2.fit(x2,y2)"
   ]
  },
  {
   "cell_type": "markdown",
   "metadata": {},
   "source": [
    "# Exercise 6.3\n",
    "\n",
    "Test the two SVM's using the different kernels (‘poly’, ‘rbf’, ‘sigmoid’)\n"
   ]
  },
  {
   "cell_type": "code",
   "execution_count": 8,
   "metadata": {},
   "outputs": [
    {
     "name": "stdout",
     "output_type": "stream",
     "text": [
      "The scores for the white wine SVM using the different kernels are  poly: 0.8156390363413638 rbf: 0.8409554920375664 sigmoid: 0.7133523887300939\n",
      "The scores for the red wine SVM using the different kernels are  poly: 0.908692933083177 rbf: 0.8986866791744841 sigmoid: 0.8311444652908068\n"
     ]
    }
   ],
   "source": [
    "# SVM for white wines\n",
    "\n",
    "svm_white_poly = SVC(kernel= 'poly')\n",
    "svm_white_poly.fit(x1,y1)\n",
    "score_white_poly = svm_white_poly.score(x1,y1)\n",
    "\n",
    "svm_white_rbf = SVC(kernel= 'rbf')\n",
    "svm_white_rbf.fit(x1,y1)\n",
    "score_white_rbf = svm_white_rbf.score(x1,y1)\n",
    "\n",
    "svm_white_sigmoid = SVC(kernel= 'sigmoid')\n",
    "svm_white_sigmoid.fit(x1,y1)\n",
    "score_white_sigmoid = svm_white_sigmoid.score(x1,y1)\n",
    "\n",
    "# SVM for red wines\n",
    "\n",
    "svm_red_poly = SVC(kernel= 'poly')\n",
    "svm_red_poly.fit(x2,y2)\n",
    "score_red_poly = svm_red_poly.score(x2,y2)\n",
    "\n",
    "svm_red_rbf = SVC(kernel= 'rbf')\n",
    "svm_red_rbf.fit(x2,y2)\n",
    "score_red_rbf = svm_red_rbf.score(x2,y2)\n",
    "\n",
    "svm_red_sigmoid = SVC(kernel= 'sigmoid')\n",
    "svm_red_sigmoid.fit(x2,y2)\n",
    "score_red_sigmoid = svm_red_sigmoid.score(x2,y2)\n",
    "\n",
    "print('The scores for the white wine SVM using the different kernels are ','poly:', score_white_poly,'rbf:', score_white_rbf,'sigmoid:', score_white_sigmoid   )\n",
    "print('The scores for the red wine SVM using the different kernels are ','poly:', score_red_poly,'rbf:', score_red_rbf,'sigmoid:', score_red_sigmoid   )\n",
    "\n",
    "\n"
   ]
  },
  {
   "cell_type": "markdown",
   "metadata": {},
   "source": [
    "# Exercise 6.4\n",
    "Using the best SVM find the parameters that gives the best performance\n",
    "\n",
    "'C': [0.1, 1, 10, 100, 1000], 'gamma': [0.01, 0.001, 0.0001]"
   ]
  },
  {
   "cell_type": "code",
   "execution_count": 9,
   "metadata": {},
   "outputs": [
    {
     "name": "stdout",
     "output_type": "stream",
     "text": [
      "[[0.1, 0.01, 0.7835851367905268], [0.1, 0.001, 0.7835851367905268], [0.1, 0.0001, 0.7835851367905268], [1, 0.001, 0.7835851367905268], [1, 0.0001, 0.7835851367905268], [10, 0.001, 0.7835851367905268], [10, 0.0001, 0.7835851367905268], [100, 0.0001, 0.7835851367905268], [1000, 0.0001, 0.7835851367905268], [1, 0.01, 0.8007349938750511], [100, 0.001, 0.8064516129032258], [1000, 0.001, 0.8182931808901592], [10, 0.01, 0.819314005716619], [100, 0.01, 0.8344222131482237], [1000, 0.01, 0.8468762760310331]]\n",
      "[[0.1, 0.01, 0.8642901813633521], [0.1, 0.001, 0.8642901813633521], [0.1, 0.0001, 0.8642901813633521], [1, 0.01, 0.8642901813633521], [1, 0.001, 0.8642901813633521], [1, 0.0001, 0.8642901813633521], [10, 0.001, 0.8642901813633521], [10, 0.0001, 0.8642901813633521], [100, 0.001, 0.8642901813633521], [100, 0.0001, 0.8642901813633521], [1000, 0.001, 0.8642901813633521], [1000, 0.0001, 0.8642901813633521], [10, 0.01, 0.8655409631019387], [100, 0.01, 0.8799249530956847], [1000, 0.01, 0.9105691056910569]]\n",
      "La mejor combinacion para ambos tipos es c=1000 y gamma=0.01\n"
     ]
    }
   ],
   "source": [
    "white_list = []\n",
    "red_list = []\n",
    "\n",
    "for c in [0.1, 1, 10, 100, 1000]:\n",
    "    for g in [0.01, 0.001, 0.0001]:\n",
    "        svm_white_rbf = SVC(kernel= 'rbf',C=c, gamma=g)\n",
    "        svm_white_rbf.fit(x1,y1)\n",
    "        white_list.append([c,g,svm_white_rbf.score(x1,y1)]) \n",
    "        svm_red_poly = SVC(kernel= 'poly',C=c, gamma=g)\n",
    "        svm_red_poly.fit(x2,y2)\n",
    "        red_list.append([c,g, svm_red_poly.score(x2,y2)])\n",
    "\n",
    "white_list.sort(key=lambda x: x[2]) \n",
    "red_list.sort(key=lambda x: x[2]) \n",
    "print(white_list)\n",
    "print(red_list)\n",
    "print(\"La mejor combinacion para ambos tipos es c=1000 y gamma=0.01\")"
   ]
  },
  {
   "cell_type": "markdown",
   "metadata": {},
   "source": [
    "# Exercise 6.5\n",
    "\n",
    "Compare the results with other methods"
   ]
  },
  {
   "cell_type": "code",
   "execution_count": 10,
   "metadata": {},
   "outputs": [
    {
     "name": "stdout",
     "output_type": "stream",
     "text": [
      "0.8017558187015108\n",
      "0.7986241400875547\n",
      "SVM es mejor para los dos tipos de vino:  \n",
      "white_SVM=0.85 vs white_LOGIT=0.8\n",
      "red_SVM=0.91 vs white_LOGIT=0.7986\n"
     ]
    }
   ],
   "source": [
    "from sklearn import linear_model\n",
    "from sklearn import model_selection\n",
    "from sklearn.metrics import classification_report\n",
    "from sklearn.metrics import confusion_matrix\n",
    "from sklearn.metrics import accuracy_score\n",
    "\n",
    "reg_white = linear_model.LogisticRegression()\n",
    "reg_white.fit(x1,y1)\n",
    "\n",
    "reg_red = linear_model.LogisticRegression()\n",
    "reg_red.fit(x2,y2)\n",
    "\n",
    "predictions_white = reg_white.predict(x1)\n",
    "predictions_red = reg_white.predict(x2)\n",
    "print(accuracy_score(y1, predictions_white))\n",
    "print(accuracy_score(y2, predictions_red))\n",
    "\n",
    "print('''SVM es mejor para los dos tipos de vino:  \n",
    "white_SVM=0.85 vs white_LOGIT=0.8\n",
    "red_SVM=0.91 vs white_LOGIT=0.7986''')"
   ]
  },
  {
   "cell_type": "markdown",
   "metadata": {},
   "source": [
    "# Regularization"
   ]
  },
  {
   "cell_type": "markdown",
   "metadata": {},
   "source": [
    "# Exercise 6.6\n",
    "\n",
    "\n",
    "* Train a linear regression to predict wine quality (Continous)\n",
    "\n",
    "* Analyze the coefficients\n",
    "\n",
    "* Evaluate the RMSE"
   ]
  },
  {
   "cell_type": "code",
   "execution_count": 11,
   "metadata": {},
   "outputs": [
    {
     "data": {
      "text/plain": [
       "array([ 0.09787725, -0.24841422, -0.01551171,  0.23856108, -0.01492416,\n",
       "        0.12888738, -0.17405069, -0.17861212,  0.07367229,  0.1335276 ,\n",
       "        0.36460781])"
      ]
     },
     "execution_count": 11,
     "metadata": {},
     "output_type": "execute_result"
    }
   ],
   "source": [
    "from sklearn.model_selection import train_test_split\n",
    "\n",
    "lr_x = data.drop(['quality_bool', 'type', 'type_bin', 'quality'],1)\n",
    "lr_y = data['quality']\n",
    "\n",
    "#Standarize Xi\n",
    "ss = StandardScaler(with_mean=True, with_std=True)\n",
    "ss.fit(lr_x.astype(np.float))\n",
    "lr_x = ss.transform(lr_x.astype(np.float))\n",
    "ss.mean_, ss.scale_\n",
    "\n",
    "#Standarize y\n",
    "y_mean, y_std = lr_y.mean(), lr_y.std()\n",
    "lr_y = (lr_y - y_mean)/ y_std\n",
    "\n",
    "X_train, X_test, y_train, y_test = train_test_split(lr_x, lr_y, test_size=0.2, random_state=42)\n",
    "\n",
    "lr = linear_model.LinearRegression()\n",
    "lr.fit(X_train, y_train)\n",
    "y_pred = lr.predict(X_test)\n",
    "\n",
    "lr.coef_"
   ]
  },
  {
   "cell_type": "code",
   "execution_count": 12,
   "metadata": {},
   "outputs": [
    {
     "name": "stdout",
     "output_type": "stream",
     "text": [
      "RMSE: 0.7906802961090872\n"
     ]
    }
   ],
   "source": [
    "#RMSE\n",
    "from sklearn import metrics\n",
    "print('RMSE:', np.sqrt(metrics.mean_squared_error(y_test,y_pred )))"
   ]
  },
  {
   "cell_type": "markdown",
   "metadata": {},
   "source": [
    "# Exercise 6.7\n",
    "\n",
    "* Estimate a ridge regression with alpha equals 0.1 and 1.\n",
    "* Compare the coefficients with the linear regression\n",
    "* Evaluate the RMSE"
   ]
  },
  {
   "cell_type": "code",
   "execution_count": 29,
   "metadata": {},
   "outputs": [
    {
     "name": "stdout",
     "output_type": "stream",
     "text": [
      "RMSE with alpha 0.1: 0.7928917226432389\n"
     ]
    }
   ],
   "source": [
    "# Ridge\n",
    "from sklearn.linear_model import Ridge\n",
    "ridgereg01 = Ridge(alpha=0.1, normalize = True)\n",
    "ridgereg01.fit(X_train, y_train)\n",
    "y_pred01 = ridgereg01.predict(X_test)\n",
    "print('RMSE with alpha 0.1:', np.sqrt(metrics.mean_squared_error(y_test,y_pred01 )))"
   ]
  },
  {
   "cell_type": "code",
   "execution_count": 30,
   "metadata": {},
   "outputs": [
    {
     "name": "stdout",
     "output_type": "stream",
     "text": [
      "RMSE with alpha 1: 0.8360599085422661\n"
     ]
    }
   ],
   "source": [
    "ridgereg1 = Ridge(alpha=1, normalize = True)\n",
    "ridgereg1.fit(X_train, y_train)\n",
    "y_pred1 = ridgereg1.predict(X_test)\n",
    "print('RMSE with alpha 1:', np.sqrt(metrics.mean_squared_error(y_test,y_pred1 )))"
   ]
  },
  {
   "cell_type": "markdown",
   "metadata": {},
   "source": [
    "# Exercise 6.8\n",
    "\n",
    "* Estimate a lasso regression with alpha equals 0.01, 0.1 and 1.\n",
    "* Compare the coefficients with the linear regression\n",
    "* Evaluate the RMSE"
   ]
  },
  {
   "cell_type": "code",
   "execution_count": 24,
   "metadata": {},
   "outputs": [
    {
     "name": "stdout",
     "output_type": "stream",
     "text": [
      "RMSE with alpha 0.01: 0.7928590039681798\n"
     ]
    }
   ],
   "source": [
    "# Lasso\n",
    "from sklearn.linear_model import Lasso\n",
    "from sklearn.metris import classification_report\n",
    "\n",
    "lassoreg001 = Lasso(alpha=0.01)\n",
    "lassoreg001.fit(X_train, y_train)\n",
    "y_pred001 = lassoreg001.predict(X_test)\n",
    "print('RMSE with alpha 0.01:', np.sqrt(metrics.mean_squared_error(y_test,y_pred001 )))"
   ]
  },
  {
   "cell_type": "code",
   "execution_count": 19,
   "metadata": {},
   "outputs": [
    {
     "name": "stdout",
     "output_type": "stream",
     "text": [
      "RMSE with alpha 0.1: 0.8214188635497303\n"
     ]
    }
   ],
   "source": [
    "lassoreg01 = Lasso(alpha=0.1)\n",
    "lassoreg01.fit(X_train, y_train)\n",
    "y_pred01 = lassoreg01.predict(X_test)\n",
    "print('RMSE with alpha 0.1:', np.sqrt(metrics.mean_squared_error(y_test,y_pred01 )))"
   ]
  },
  {
   "cell_type": "code",
   "execution_count": 32,
   "metadata": {},
   "outputs": [
    {
     "name": "stdout",
     "output_type": "stream",
     "text": [
      "RMSE with alpha 1: 0.9681743922374527\n"
     ]
    }
   ],
   "source": [
    "lassoreg1 = Lasso(alpha=1)\n",
    "lassoreg1.fit(X_train, y_train)\n",
    "y_pred1 = lassoreg1.predict(X_test)\n",
    "print('RMSE with alpha 1:', np.sqrt(metrics.mean_squared_error(y_test,y_pred1 )))\n"
   ]
  },
  {
   "cell_type": "markdown",
   "metadata": {},
   "source": [
    "# Exercise 6.9\n",
    "\n",
    "* Create a binary target\n",
    "\n",
    "* Train a logistic regression to predict wine quality (binary)\n",
    "\n",
    "* Analyze the coefficients\n",
    "\n",
    "* Evaluate the f1score"
   ]
  },
  {
   "cell_type": "code",
   "execution_count": 58,
   "metadata": {},
   "outputs": [
    {
     "name": "stdout",
     "output_type": "stream",
     "text": [
      "The accuaracy score is 0.8166846236724642 , which means this model has a good accuracy.\n",
      "The f1 score is 0.32673827020915774 which means the model wouldn't be the best, the closer to 1 the better.\n"
     ]
    }
   ],
   "source": [
    "from sklearn.metrics import f1_score\n",
    "y = data['quality_bool']\n",
    "x = data.drop(['quality_bool', 'type', 'quality'],1)\n",
    "\n",
    "reg = linear_model.LogisticRegression()\n",
    "reg.fit(x,y)\n",
    "\n",
    "predictions = reg.predict(x)\n",
    "print('The accuaracy score is',accuracy_score(y, predictions),', which means this model has a good accuracy.')\n",
    "print('The f1 score is',f1_score(y, predictions), 'which means the model wouldn\\'t be the best, the closer to 1 the better.')"
   ]
  },
  {
   "cell_type": "markdown",
   "metadata": {},
   "source": [
    "# Exercise 6.10\n",
    "\n",
    "* Estimate a regularized logistic regression using:\n",
    "* C = 0.01, 0.1 & 1.0\n",
    "* penalty = ['l1, 'l2']\n",
    "* Compare the coefficients and the f1score"
   ]
  },
  {
   "cell_type": "code",
   "execution_count": 59,
   "metadata": {},
   "outputs": [],
   "source": [
    "from sklearn.preprocessing import StandardScaler\n",
    "#scaler = StandardScaler()\n",
    "#X_train = X_train.astype(float)\n",
    "#X_test = X_test.astype(float)\n",
    "#scaler.fit(X_train)\n",
    "#X_train_scaled = scaler.transform(X_train)\n",
    "#X_test_scaled = scaler.transform(X_test)"
   ]
  },
  {
   "cell_type": "code",
   "execution_count": 81,
   "metadata": {},
   "outputs": [
    {
     "name": "stdout",
     "output_type": "stream",
     "text": [
      "[[0.01, 'l1', 0.1562152133580705], [0.01, 'l2', 0.1562152133580705], [0.1, 'l1', 0.1562152133580705], [0.1, 'l2', 0.1562152133580705], [1, 'l1', 0.1562152133580705], [1, 'l2', 0.1562152133580705]]\n"
     ]
    }
   ],
   "source": [
    "results = []\n",
    "\n",
    "X=data[['fixed acidity','volatile acidity','citric acid','residual sugar','chlorides','free sulfur dioxide','total sulfur dioxide','density','pH','sulphates','alcohol']]\n",
    "y=data['type_bin']\n",
    "X_train, X_test, y_train, y_test = train_test_split(X, y, test_size = 0.20)  \n",
    "\n",
    "\n",
    "X_train= preprocessing.scale(X_train)\n",
    "X_test = preprocessing.scale(X_test)\n",
    "\n",
    "for c in [0.01, 0.1, 1]:\n",
    "    for p in ['l1', 'l2']:\n",
    "        \n",
    "        logreg = linear_model.LogisticRegression(C=c, penalty=p,solver='liblinear')\n",
    "        logreg.fit(X_train, y_train)\n",
    "        y_pred = logreg.predict(X_test)   \n",
    "        results.append([c,p,f1_score(y, predictions)])\n",
    "\n",
    "print(results)"
   ]
  },
  {
   "cell_type": "code",
   "execution_count": null,
   "metadata": {},
   "outputs": [],
   "source": []
  }
 ],
 "metadata": {
  "kernelspec": {
   "display_name": "Python 3",
   "language": "python",
   "name": "python3"
  },
  "language_info": {
   "codemirror_mode": {
    "name": "ipython",
    "version": 3
   },
   "file_extension": ".py",
   "mimetype": "text/x-python",
   "name": "python",
   "nbconvert_exporter": "python",
   "pygments_lexer": "ipython3",
   "version": "3.7.0"
  }
 },
 "nbformat": 4,
 "nbformat_minor": 1
}
