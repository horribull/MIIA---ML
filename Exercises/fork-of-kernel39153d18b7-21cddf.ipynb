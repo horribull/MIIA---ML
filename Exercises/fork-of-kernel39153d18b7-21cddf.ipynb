{
 "cells": [
  {
   "cell_type": "markdown",
   "metadata": {
    "colab_type": "text",
    "id": "nFPW9n5N0e2T"
   },
   "source": [
    "## Libraries"
   ]
  },
  {
   "cell_type": "code",
   "execution_count": 1,
   "metadata": {
    "_cell_guid": "b1076dfc-b9ad-4769-8c92-a6c4dae69d19",
    "_uuid": "8f2839f25d086af736a60e9eeb907d3b93b6e0e5",
    "colab": {},
    "colab_type": "code",
    "id": "8mxkcRaT-aIl"
   },
   "outputs": [],
   "source": [
    "# This Python 3 environment comes with many helpful analytics libraries installed\n",
    "# It is defined by the kaggle/python docker image: https://github.com/kaggle/docker-python\n",
    "# For example, here's several helpful packages to load in \n",
    "\n",
    "import numpy as np # linear algebra\n",
    "import pandas as pd # data processing, CSV file I/O (e.g. pd.read_csv)\n",
    "\n",
    "# Input data files are available in the \"../input/\" directory.\n",
    "# For example, running this (by clicking run or pressing Shift+Enter) will list the files in the input directory\n",
    "\n",
    "import os\n",
    "#print(os.listdir(\"../input\"))\n",
    "#print(os.listdir(\"../input/glove-global-vectors-for-word-representation\"))\n",
    "#print(os.listdir(\"../input/jigsaw-unintended-bias-in-toxicity-classification\"))\n",
    "\n",
    "# Any results you write to the current directory are saved as output."
   ]
  },
  {
   "cell_type": "code",
   "execution_count": 2,
   "metadata": {
    "_cell_guid": "79c7e3d0-c299-4dcb-8224-4455121ee9b0",
    "_uuid": "d629ff2d2480ee46fbb7e2d37f6b5fab8052498a",
    "colab": {
     "base_uri": "https://localhost:8080/",
     "height": 34
    },
    "colab_type": "code",
    "id": "vjUT73-z-aJA",
    "outputId": "1efa5716-e37a-4703-de15-0dff0ee6d5fc"
   },
   "outputs": [
    {
     "name": "stderr",
     "output_type": "stream",
     "text": [
      "Using TensorFlow backend.\n"
     ]
    }
   ],
   "source": [
    "from __future__ import absolute_import\n",
    "from __future__ import division\n",
    "from __future__ import print_function\n",
    "\n",
    "import datetime\n",
    "import os\n",
    "import pandas as pd\n",
    "import numpy as np\n",
    "import pkg_resources\n",
    "import seaborn as sns\n",
    "import time\n",
    "import scipy.stats as stats\n",
    "\n",
    "from sklearn import metrics\n",
    "from sklearn import model_selection\n",
    "\n",
    "from keras.preprocessing.text import Tokenizer\n",
    "from keras.utils import to_categorical\n",
    "from keras.preprocessing.sequence import pad_sequences\n",
    "from keras.layers import Embedding\n",
    "from keras.layers import Input\n",
    "from keras.layers import Conv1D\n",
    "from keras.layers import MaxPooling1D\n",
    "from keras.layers import Flatten\n",
    "from keras.layers import Dropout\n",
    "from keras.layers import Dense\n",
    "from keras.optimizers import RMSprop, Adadelta , Nadam\n",
    "from keras.models import Model\n",
    "from keras.models import load_model\n",
    "from keras.callbacks import ModelCheckpoint"
   ]
  },
  {
   "cell_type": "markdown",
   "metadata": {
    "colab_type": "text",
    "id": "1ybpPZ1f-H4I"
   },
   "source": [
    "## load data from older competition (for oversampling)"
   ]
  },
  {
   "cell_type": "code",
   "execution_count": 3,
   "metadata": {},
   "outputs": [
    {
     "name": "stdout",
     "output_type": "stream",
     "text": [
      "loaded 159571 train records\n",
      "loaded 153164 train records\n",
      "loaded 153164 train records\n"
     ]
    }
   ],
   "source": [
    "old_train = pd.read_csv('../input/cleaned-toxic-comments/train_preprocessed.csv', encoding='UTF-8', index_col=0)\n",
    "print('loaded %d train records' % len(old_train))\n",
    "\n",
    "old_test = pd.read_csv('../input/cleaned-toxic-comments/test_preprocessed.csv', encoding='UTF-8', index_col=0)\n",
    "print('loaded %d train records' % len(old_test))\n",
    "\n",
    "\n",
    "test_labels = pd.read_csv('../input/bandida/test_labels.csv', encoding='UTF-8', index_col=0)\n",
    "print('loaded %d train records' % len(test_labels))"
   ]
  },
  {
   "cell_type": "code",
   "execution_count": 4,
   "metadata": {},
   "outputs": [
    {
     "data": {
      "text/html": [
       "<div>\n",
       "<style scoped>\n",
       "    .dataframe tbody tr th:only-of-type {\n",
       "        vertical-align: middle;\n",
       "    }\n",
       "\n",
       "    .dataframe tbody tr th {\n",
       "        vertical-align: top;\n",
       "    }\n",
       "\n",
       "    .dataframe thead th {\n",
       "        text-align: right;\n",
       "    }\n",
       "</style>\n",
       "<table border=\"1\" class=\"dataframe\">\n",
       "  <thead>\n",
       "    <tr style=\"text-align: right;\">\n",
       "      <th></th>\n",
       "      <th>comment_text</th>\n",
       "      <th>toxic</th>\n",
       "    </tr>\n",
       "    <tr>\n",
       "      <th>id</th>\n",
       "      <th></th>\n",
       "      <th></th>\n",
       "    </tr>\n",
       "  </thead>\n",
       "  <tbody>\n",
       "    <tr>\n",
       "      <th>0000997932d777bf</th>\n",
       "      <td>explanation why the edits made under my userna...</td>\n",
       "      <td>0.0</td>\n",
       "    </tr>\n",
       "    <tr>\n",
       "      <th>000103f0d9cfb60f</th>\n",
       "      <td>d aww  he matches this background colour i m s...</td>\n",
       "      <td>0.0</td>\n",
       "    </tr>\n",
       "    <tr>\n",
       "      <th>000113f07ec002fd</th>\n",
       "      <td>hey man  i m really not trying to edit war  it...</td>\n",
       "      <td>0.0</td>\n",
       "    </tr>\n",
       "    <tr>\n",
       "      <th>0001b41b1c6bb37e</th>\n",
       "      <td>more i can t make any real suggestions on im...</td>\n",
       "      <td>0.0</td>\n",
       "    </tr>\n",
       "    <tr>\n",
       "      <th>0001d958c54c6e35</th>\n",
       "      <td>you  sir  are my hero  any chance you remember...</td>\n",
       "      <td>0.0</td>\n",
       "    </tr>\n",
       "  </tbody>\n",
       "</table>\n",
       "</div>"
      ],
      "text/plain": [
       "                                                       comment_text  toxic\n",
       "id                                                                        \n",
       "0000997932d777bf  explanation why the edits made under my userna...    0.0\n",
       "000103f0d9cfb60f  d aww  he matches this background colour i m s...    0.0\n",
       "000113f07ec002fd  hey man  i m really not trying to edit war  it...    0.0\n",
       "0001b41b1c6bb37e    more i can t make any real suggestions on im...    0.0\n",
       "0001d958c54c6e35  you  sir  are my hero  any chance you remember...    0.0"
      ]
     },
     "execution_count": 4,
     "metadata": {},
     "output_type": "execute_result"
    }
   ],
   "source": [
    "old_train=old_train.reset_index().set_index('id')\n",
    "old_train=old_train[['comment_text','toxic']]\n",
    "old_train.head()"
   ]
  },
  {
   "cell_type": "code",
   "execution_count": 5,
   "metadata": {},
   "outputs": [
    {
     "data": {
      "text/html": [
       "<div>\n",
       "<style scoped>\n",
       "    .dataframe tbody tr th:only-of-type {\n",
       "        vertical-align: middle;\n",
       "    }\n",
       "\n",
       "    .dataframe tbody tr th {\n",
       "        vertical-align: top;\n",
       "    }\n",
       "\n",
       "    .dataframe thead th {\n",
       "        text-align: right;\n",
       "    }\n",
       "</style>\n",
       "<table border=\"1\" class=\"dataframe\">\n",
       "  <thead>\n",
       "    <tr style=\"text-align: right;\">\n",
       "      <th></th>\n",
       "      <th>comment_text</th>\n",
       "    </tr>\n",
       "    <tr>\n",
       "      <th>id</th>\n",
       "      <th></th>\n",
       "    </tr>\n",
       "  </thead>\n",
       "  <tbody>\n",
       "    <tr>\n",
       "      <th>00001cee341fdb12</th>\n",
       "      <td>yo bitch ja rule is more succesful then you ll...</td>\n",
       "    </tr>\n",
       "    <tr>\n",
       "      <th>0000247867823ef7</th>\n",
       "      <td>from rfc the title is fine as it is  imo</td>\n",
       "    </tr>\n",
       "    <tr>\n",
       "      <th>00013b17ad220c46</th>\n",
       "      <td>sources zawe ashton on lapland</td>\n",
       "    </tr>\n",
       "    <tr>\n",
       "      <th>00017563c3f7919a</th>\n",
       "      <td>if you have a look back at the source  the in...</td>\n",
       "    </tr>\n",
       "    <tr>\n",
       "      <th>00017695ad8997eb</th>\n",
       "      <td>i don t anonymously edit articles at all</td>\n",
       "    </tr>\n",
       "  </tbody>\n",
       "</table>\n",
       "</div>"
      ],
      "text/plain": [
       "                                                       comment_text\n",
       "id                                                                 \n",
       "00001cee341fdb12  yo bitch ja rule is more succesful then you ll...\n",
       "0000247867823ef7          from rfc the title is fine as it is  imo \n",
       "00013b17ad220c46                    sources zawe ashton on lapland \n",
       "00017563c3f7919a   if you have a look back at the source  the in...\n",
       "00017695ad8997eb          i don t anonymously edit articles at all "
      ]
     },
     "execution_count": 5,
     "metadata": {},
     "output_type": "execute_result"
    }
   ],
   "source": [
    "old_test=old_test.reset_index().set_index('id')\n",
    "old_test=old_test[['comment_text']]\n",
    "old_test.head()"
   ]
  },
  {
   "cell_type": "code",
   "execution_count": 6,
   "metadata": {
    "colab": {
     "base_uri": "https://localhost:8080/",
     "height": 51
    },
    "colab_type": "code",
    "id": "lcoRwJebWS81",
    "outputId": "9327b2ab-aff0-4d00-b96c-43f6783754f3"
   },
   "outputs": [
    {
     "name": "stdout",
     "output_type": "stream",
     "text": [
      "(153164, 7)\n"
     ]
    },
    {
     "data": {
      "text/html": [
       "<div>\n",
       "<style scoped>\n",
       "    .dataframe tbody tr th:only-of-type {\n",
       "        vertical-align: middle;\n",
       "    }\n",
       "\n",
       "    .dataframe tbody tr th {\n",
       "        vertical-align: top;\n",
       "    }\n",
       "\n",
       "    .dataframe thead th {\n",
       "        text-align: right;\n",
       "    }\n",
       "</style>\n",
       "<table border=\"1\" class=\"dataframe\">\n",
       "  <thead>\n",
       "    <tr style=\"text-align: right;\">\n",
       "      <th></th>\n",
       "      <th>comment_text</th>\n",
       "      <th>toxic</th>\n",
       "      <th>severe_toxic</th>\n",
       "      <th>obscene</th>\n",
       "      <th>threat</th>\n",
       "      <th>insult</th>\n",
       "      <th>identity_hate</th>\n",
       "    </tr>\n",
       "    <tr>\n",
       "      <th>id</th>\n",
       "      <th></th>\n",
       "      <th></th>\n",
       "      <th></th>\n",
       "      <th></th>\n",
       "      <th></th>\n",
       "      <th></th>\n",
       "      <th></th>\n",
       "    </tr>\n",
       "  </thead>\n",
       "  <tbody>\n",
       "    <tr>\n",
       "      <th>00001cee341fdb12</th>\n",
       "      <td>yo bitch ja rule is more succesful then you ll...</td>\n",
       "      <td>-1</td>\n",
       "      <td>-1</td>\n",
       "      <td>-1</td>\n",
       "      <td>-1</td>\n",
       "      <td>-1</td>\n",
       "      <td>-1</td>\n",
       "    </tr>\n",
       "    <tr>\n",
       "      <th>0000247867823ef7</th>\n",
       "      <td>from rfc the title is fine as it is  imo</td>\n",
       "      <td>-1</td>\n",
       "      <td>-1</td>\n",
       "      <td>-1</td>\n",
       "      <td>-1</td>\n",
       "      <td>-1</td>\n",
       "      <td>-1</td>\n",
       "    </tr>\n",
       "    <tr>\n",
       "      <th>00013b17ad220c46</th>\n",
       "      <td>sources zawe ashton on lapland</td>\n",
       "      <td>-1</td>\n",
       "      <td>-1</td>\n",
       "      <td>-1</td>\n",
       "      <td>-1</td>\n",
       "      <td>-1</td>\n",
       "      <td>-1</td>\n",
       "    </tr>\n",
       "    <tr>\n",
       "      <th>00017563c3f7919a</th>\n",
       "      <td>if you have a look back at the source  the in...</td>\n",
       "      <td>-1</td>\n",
       "      <td>-1</td>\n",
       "      <td>-1</td>\n",
       "      <td>-1</td>\n",
       "      <td>-1</td>\n",
       "      <td>-1</td>\n",
       "    </tr>\n",
       "    <tr>\n",
       "      <th>00017695ad8997eb</th>\n",
       "      <td>i don t anonymously edit articles at all</td>\n",
       "      <td>-1</td>\n",
       "      <td>-1</td>\n",
       "      <td>-1</td>\n",
       "      <td>-1</td>\n",
       "      <td>-1</td>\n",
       "      <td>-1</td>\n",
       "    </tr>\n",
       "  </tbody>\n",
       "</table>\n",
       "</div>"
      ],
      "text/plain": [
       "                                                       comment_text      ...        identity_hate\n",
       "id                                                                       ...                     \n",
       "00001cee341fdb12  yo bitch ja rule is more succesful then you ll...      ...                   -1\n",
       "0000247867823ef7          from rfc the title is fine as it is  imo       ...                   -1\n",
       "00013b17ad220c46                    sources zawe ashton on lapland       ...                   -1\n",
       "00017563c3f7919a   if you have a look back at the source  the in...      ...                   -1\n",
       "00017695ad8997eb          i don t anonymously edit articles at all       ...                   -1\n",
       "\n",
       "[5 rows x 7 columns]"
      ]
     },
     "execution_count": 6,
     "metadata": {},
     "output_type": "execute_result"
    }
   ],
   "source": [
    "old_not_toxic_test = pd.concat([old_test,test_labels],axis=1)\n",
    "print(old_not_toxic_test.shape)\n",
    "old_not_toxic_test.head()"
   ]
  },
  {
   "cell_type": "code",
   "execution_count": 7,
   "metadata": {},
   "outputs": [],
   "source": [
    "# agregar reset_index"
   ]
  },
  {
   "cell_type": "code",
   "execution_count": 8,
   "metadata": {},
   "outputs": [
    {
     "data": {
      "text/html": [
       "<div>\n",
       "<style scoped>\n",
       "    .dataframe tbody tr th:only-of-type {\n",
       "        vertical-align: middle;\n",
       "    }\n",
       "\n",
       "    .dataframe tbody tr th {\n",
       "        vertical-align: top;\n",
       "    }\n",
       "\n",
       "    .dataframe thead th {\n",
       "        text-align: right;\n",
       "    }\n",
       "</style>\n",
       "<table border=\"1\" class=\"dataframe\">\n",
       "  <thead>\n",
       "    <tr style=\"text-align: right;\">\n",
       "      <th></th>\n",
       "      <th>comment_text</th>\n",
       "      <th>toxic</th>\n",
       "    </tr>\n",
       "    <tr>\n",
       "      <th>id</th>\n",
       "      <th></th>\n",
       "      <th></th>\n",
       "    </tr>\n",
       "  </thead>\n",
       "  <tbody>\n",
       "    <tr>\n",
       "      <th>0000997932d777bf</th>\n",
       "      <td>explanation why the edits made under my userna...</td>\n",
       "      <td>0.0</td>\n",
       "    </tr>\n",
       "    <tr>\n",
       "      <th>000103f0d9cfb60f</th>\n",
       "      <td>d aww  he matches this background colour i m s...</td>\n",
       "      <td>0.0</td>\n",
       "    </tr>\n",
       "    <tr>\n",
       "      <th>000113f07ec002fd</th>\n",
       "      <td>hey man  i m really not trying to edit war  it...</td>\n",
       "      <td>0.0</td>\n",
       "    </tr>\n",
       "    <tr>\n",
       "      <th>0001b41b1c6bb37e</th>\n",
       "      <td>more i can t make any real suggestions on im...</td>\n",
       "      <td>0.0</td>\n",
       "    </tr>\n",
       "    <tr>\n",
       "      <th>0001d958c54c6e35</th>\n",
       "      <td>you  sir  are my hero  any chance you remember...</td>\n",
       "      <td>0.0</td>\n",
       "    </tr>\n",
       "  </tbody>\n",
       "</table>\n",
       "</div>"
      ],
      "text/plain": [
       "                                                       comment_text  toxic\n",
       "id                                                                        \n",
       "0000997932d777bf  explanation why the edits made under my userna...    0.0\n",
       "000103f0d9cfb60f  d aww  he matches this background colour i m s...    0.0\n",
       "000113f07ec002fd  hey man  i m really not trying to edit war  it...    0.0\n",
       "0001b41b1c6bb37e    more i can t make any real suggestions on im...    0.0\n",
       "0001d958c54c6e35  you  sir  are my hero  any chance you remember...    0.0"
      ]
     },
     "execution_count": 8,
     "metadata": {},
     "output_type": "execute_result"
    }
   ],
   "source": [
    "old_train.head()"
   ]
  },
  {
   "cell_type": "code",
   "execution_count": 9,
   "metadata": {
    "colab": {},
    "colab_type": "code",
    "id": "3kstO_BNW3r0"
   },
   "outputs": [
    {
     "data": {
      "text/html": [
       "<div>\n",
       "<style scoped>\n",
       "    .dataframe tbody tr th:only-of-type {\n",
       "        vertical-align: middle;\n",
       "    }\n",
       "\n",
       "    .dataframe tbody tr th {\n",
       "        vertical-align: top;\n",
       "    }\n",
       "\n",
       "    .dataframe thead th {\n",
       "        text-align: right;\n",
       "    }\n",
       "</style>\n",
       "<table border=\"1\" class=\"dataframe\">\n",
       "  <thead>\n",
       "    <tr style=\"text-align: right;\">\n",
       "      <th></th>\n",
       "      <th>comment_text</th>\n",
       "      <th>toxic</th>\n",
       "    </tr>\n",
       "    <tr>\n",
       "      <th>id</th>\n",
       "      <th></th>\n",
       "      <th></th>\n",
       "    </tr>\n",
       "  </thead>\n",
       "  <tbody>\n",
       "    <tr>\n",
       "      <th>0000997932d777bf</th>\n",
       "      <td>explanation why the edits made under my userna...</td>\n",
       "      <td>0.0</td>\n",
       "    </tr>\n",
       "    <tr>\n",
       "      <th>000103f0d9cfb60f</th>\n",
       "      <td>d aww  he matches this background colour i m s...</td>\n",
       "      <td>0.0</td>\n",
       "    </tr>\n",
       "    <tr>\n",
       "      <th>000113f07ec002fd</th>\n",
       "      <td>hey man  i m really not trying to edit war  it...</td>\n",
       "      <td>0.0</td>\n",
       "    </tr>\n",
       "    <tr>\n",
       "      <th>0001b41b1c6bb37e</th>\n",
       "      <td>more i can t make any real suggestions on im...</td>\n",
       "      <td>0.0</td>\n",
       "    </tr>\n",
       "    <tr>\n",
       "      <th>0001d958c54c6e35</th>\n",
       "      <td>you  sir  are my hero  any chance you remember...</td>\n",
       "      <td>0.0</td>\n",
       "    </tr>\n",
       "  </tbody>\n",
       "</table>\n",
       "</div>"
      ],
      "text/plain": [
       "                                                       comment_text  toxic\n",
       "id                                                                        \n",
       "0000997932d777bf  explanation why the edits made under my userna...    0.0\n",
       "000103f0d9cfb60f  d aww  he matches this background colour i m s...    0.0\n",
       "000113f07ec002fd  hey man  i m really not trying to edit war  it...    0.0\n",
       "0001b41b1c6bb37e    more i can t make any real suggestions on im...    0.0\n",
       "0001d958c54c6e35  you  sir  are my hero  any chance you remember...    0.0"
      ]
     },
     "execution_count": 9,
     "metadata": {},
     "output_type": "execute_result"
    }
   ],
   "source": [
    "old_not_toxic=old_train[old_train['toxic']==0]\n",
    "old_not_toxic.head()"
   ]
  },
  {
   "cell_type": "code",
   "execution_count": 10,
   "metadata": {},
   "outputs": [
    {
     "data": {
      "text/html": [
       "<div>\n",
       "<style scoped>\n",
       "    .dataframe tbody tr th:only-of-type {\n",
       "        vertical-align: middle;\n",
       "    }\n",
       "\n",
       "    .dataframe tbody tr th {\n",
       "        vertical-align: top;\n",
       "    }\n",
       "\n",
       "    .dataframe thead th {\n",
       "        text-align: right;\n",
       "    }\n",
       "</style>\n",
       "<table border=\"1\" class=\"dataframe\">\n",
       "  <thead>\n",
       "    <tr style=\"text-align: right;\">\n",
       "      <th></th>\n",
       "      <th>comment_text</th>\n",
       "      <th>toxic</th>\n",
       "    </tr>\n",
       "    <tr>\n",
       "      <th>id</th>\n",
       "      <th></th>\n",
       "      <th></th>\n",
       "    </tr>\n",
       "  </thead>\n",
       "  <tbody>\n",
       "    <tr>\n",
       "      <th>0001ea8717f6de06</th>\n",
       "      <td>thank you for understanding  i think very high...</td>\n",
       "      <td>0</td>\n",
       "    </tr>\n",
       "    <tr>\n",
       "      <th>000247e83dcc1211</th>\n",
       "      <td>dear god this site is horrible</td>\n",
       "      <td>0</td>\n",
       "    </tr>\n",
       "    <tr>\n",
       "      <th>0002f87b16116a7f</th>\n",
       "      <td>somebody will invariably try to add religion ...</td>\n",
       "      <td>0</td>\n",
       "    </tr>\n",
       "    <tr>\n",
       "      <th>0003e1cccfd5a40a</th>\n",
       "      <td>it says it right there that it is a type  the...</td>\n",
       "      <td>0</td>\n",
       "    </tr>\n",
       "    <tr>\n",
       "      <th>00059ace3e3e9a53</th>\n",
       "      <td>before adding a new product to the list  make...</td>\n",
       "      <td>0</td>\n",
       "    </tr>\n",
       "  </tbody>\n",
       "</table>\n",
       "</div>"
      ],
      "text/plain": [
       "                                                       comment_text  toxic\n",
       "id                                                                        \n",
       "0001ea8717f6de06  thank you for understanding  i think very high...      0\n",
       "000247e83dcc1211                    dear god this site is horrible       0\n",
       "0002f87b16116a7f   somebody will invariably try to add religion ...      0\n",
       "0003e1cccfd5a40a   it says it right there that it is a type  the...      0\n",
       "00059ace3e3e9a53   before adding a new product to the list  make...      0"
      ]
     },
     "execution_count": 10,
     "metadata": {},
     "output_type": "execute_result"
    }
   ],
   "source": [
    "old_not_toxic_test=old_not_toxic_test[old_not_toxic_test['toxic']==0]\n",
    "old_not_toxic_test=old_not_toxic_test[['comment_text','toxic']]\n",
    "old_not_toxic_test.head()"
   ]
  },
  {
   "cell_type": "markdown",
   "metadata": {
    "colab_type": "text",
    "id": "BOJiKkeu-Olx"
   },
   "source": [
    "## load data from bias competition"
   ]
  },
  {
   "cell_type": "code",
   "execution_count": 11,
   "metadata": {
    "colab": {
     "base_uri": "https://localhost:8080/",
     "height": 151
    },
    "colab_type": "code",
    "id": "GwYNn-74DlVs",
    "outputId": "aa36c524-aaa7-44ff-b295-a45d660edb8e"
   },
   "outputs": [
    {
     "name": "stderr",
     "output_type": "stream",
     "text": [
      "/opt/conda/lib/python3.6/site-packages/numpy/lib/arraysetops.py:569: FutureWarning: elementwise comparison failed; returning scalar instead, but in the future will perform elementwise comparison\n",
      "  mask |= (ar1 == a)\n"
     ]
    },
    {
     "name": "stdout",
     "output_type": "stream",
     "text": [
      "loaded 1804874 train records\n",
      "loaded 97320 test records\n"
     ]
    }
   ],
   "source": [
    "train = pd.read_csv('../input/jigsaw-unintended-bias-in-toxicity-classification/train.csv', encoding='UTF-8', index_col=0)\n",
    "print('loaded %d train records' % len(train))\n",
    "test = pd.read_csv('../input/jigsaw-unintended-bias-in-toxicity-classification/test.csv', encoding='UTF-8', index_col=0)\n",
    "print('loaded %d test records' % len(test))"
   ]
  },
  {
   "cell_type": "code",
   "execution_count": 12,
   "metadata": {},
   "outputs": [
    {
     "data": {
      "text/html": [
       "<div>\n",
       "<style scoped>\n",
       "    .dataframe tbody tr th:only-of-type {\n",
       "        vertical-align: middle;\n",
       "    }\n",
       "\n",
       "    .dataframe tbody tr th {\n",
       "        vertical-align: top;\n",
       "    }\n",
       "\n",
       "    .dataframe thead th {\n",
       "        text-align: right;\n",
       "    }\n",
       "</style>\n",
       "<table border=\"1\" class=\"dataframe\">\n",
       "  <thead>\n",
       "    <tr style=\"text-align: right;\">\n",
       "      <th></th>\n",
       "      <th>comment_text</th>\n",
       "    </tr>\n",
       "    <tr>\n",
       "      <th>id</th>\n",
       "      <th></th>\n",
       "    </tr>\n",
       "  </thead>\n",
       "  <tbody>\n",
       "    <tr>\n",
       "      <th>7000000</th>\n",
       "      <td>Jeff Sessions is another one of Trump's Orwell...</td>\n",
       "    </tr>\n",
       "    <tr>\n",
       "      <th>7000001</th>\n",
       "      <td>I actually inspected the infrastructure on Gra...</td>\n",
       "    </tr>\n",
       "    <tr>\n",
       "      <th>7000002</th>\n",
       "      <td>No it won't . That's just wishful thinking on ...</td>\n",
       "    </tr>\n",
       "    <tr>\n",
       "      <th>7000003</th>\n",
       "      <td>Instead of wringing our hands and nibbling the...</td>\n",
       "    </tr>\n",
       "    <tr>\n",
       "      <th>7000004</th>\n",
       "      <td>how many of you commenters have garbage piled ...</td>\n",
       "    </tr>\n",
       "  </tbody>\n",
       "</table>\n",
       "</div>"
      ],
      "text/plain": [
       "                                              comment_text\n",
       "id                                                        \n",
       "7000000  Jeff Sessions is another one of Trump's Orwell...\n",
       "7000001  I actually inspected the infrastructure on Gra...\n",
       "7000002  No it won't . That's just wishful thinking on ...\n",
       "7000003  Instead of wringing our hands and nibbling the...\n",
       "7000004  how many of you commenters have garbage piled ..."
      ]
     },
     "execution_count": 12,
     "metadata": {},
     "output_type": "execute_result"
    }
   ],
   "source": [
    "test.head()"
   ]
  },
  {
   "cell_type": "markdown",
   "metadata": {
    "colab_type": "text",
    "id": "ZFuRFsO994NJ"
   },
   "source": [
    "## pre-process the data set"
   ]
  },
  {
   "cell_type": "code",
   "execution_count": 13,
   "metadata": {
    "colab": {
     "base_uri": "https://localhost:8080/",
     "height": 34
    },
    "colab_type": "code",
    "id": "AQ55ITPc9qVD",
    "outputId": "26832f9e-728f-4b71-c889-b31d70282ca7"
   },
   "outputs": [
    {
     "name": "stdout",
     "output_type": "stream",
     "text": [
      "loaded 1804874 records\n"
     ]
    }
   ],
   "source": [
    "#train = pd.read_csv('../input/jigsaw-unintended-bias-in-toxicity-classification/train.csv')\n",
    "print('loaded %d records' % len(train))\n",
    "\n",
    "# Make sure all comment_text values are strings\n",
    "train['comment_text'] = train['comment_text'].astype(str) \n",
    "test['comment_text'] = test['comment_text'].astype(str) \n",
    "\n",
    "# List all identities\n",
    "identity_columns = [\n",
    "    'male', 'female', 'homosexual_gay_or_lesbian', 'christian', 'jewish',\n",
    "    'muslim', 'black', 'white', 'psychiatric_or_mental_illness','asian','transgender','latino','atheist']\n",
    "\n",
    "#identity_columns=id\n",
    "\n",
    "# Convert target and identity columns to booleans\n",
    "def convert_to_bool(df, col_name):\n",
    "    df[col_name] = np.where(df[col_name] >= 0.5, True, False)\n",
    "    \n",
    "def convert_dataframe_to_bool(df):\n",
    "    bool_df = df.copy()\n",
    "    for col in ['target'] + identity_columns: #\n",
    "        convert_to_bool(bool_df, col)\n",
    "    return bool_df\n",
    "\n",
    "def convert_dataframe_to_bool_test(df):\n",
    "    bool_df = df.copy()\n",
    "    for col in ['comment_text']: #\n",
    "        convert_to_bool(bool_df, col)\n",
    "    return bool_df\n",
    "\n",
    "train = convert_dataframe_to_bool(train)\n",
    "#test = convert_dataframe_to_bool_test(test)"
   ]
  },
  {
   "cell_type": "code",
   "execution_count": 14,
   "metadata": {},
   "outputs": [
    {
     "name": "stdout",
     "output_type": "stream",
     "text": [
      "(144277, 2)\n",
      "black (24082, 3)\n",
      "homosexual_gay_or_lesbian (15011, 3)\n",
      "white (33568, 3)\n",
      "muslim (18836, 3)\n",
      "psychiatric_or_mental_illness (3694, 3)\n",
      "jewish (2682, 3)\n",
      "male (11224, 3)\n",
      "female (7496, 3)\n",
      "transgender (1934, 3)\n",
      "latino (1229, 3)\n",
      "asian (139, 3)\n",
      "atheist (130, 3)\n",
      "train before append: (1804874, 44)\n"
     ]
    },
    {
     "name": "stderr",
     "output_type": "stream",
     "text": [
      "/opt/conda/lib/python3.6/site-packages/ipykernel_launcher.py:58: FutureWarning: Sorting because non-concatenation axis is not aligned. A future version\n",
      "of pandas will change to not sort by default.\n",
      "\n",
      "To accept the future behavior, pass 'sort=False'.\n",
      "\n",
      "To retain the current behavior and silence the warning, pass 'sort=True'.\n",
      "\n"
     ]
    },
    {
     "name": "stdout",
     "output_type": "stream",
     "text": [
      "train after append: (1924899, 45)\n"
     ]
    },
    {
     "data": {
      "text/html": [
       "<div>\n",
       "<style scoped>\n",
       "    .dataframe tbody tr th:only-of-type {\n",
       "        vertical-align: middle;\n",
       "    }\n",
       "\n",
       "    .dataframe tbody tr th {\n",
       "        vertical-align: top;\n",
       "    }\n",
       "\n",
       "    .dataframe thead th {\n",
       "        text-align: right;\n",
       "    }\n",
       "</style>\n",
       "<table border=\"1\" class=\"dataframe\">\n",
       "  <thead>\n",
       "    <tr style=\"text-align: right;\">\n",
       "      <th></th>\n",
       "      <th>comment_text</th>\n",
       "      <th>toxic</th>\n",
       "      <th>black</th>\n",
       "    </tr>\n",
       "    <tr>\n",
       "      <th>id</th>\n",
       "      <th></th>\n",
       "      <th></th>\n",
       "      <th></th>\n",
       "    </tr>\n",
       "  </thead>\n",
       "  <tbody>\n",
       "    <tr>\n",
       "      <th>0000997932d777bf</th>\n",
       "      <td>explanation why the edits made under my userna...</td>\n",
       "      <td>0.0</td>\n",
       "      <td>1</td>\n",
       "    </tr>\n",
       "    <tr>\n",
       "      <th>000103f0d9cfb60f</th>\n",
       "      <td>d aww  he matches this background colour i m s...</td>\n",
       "      <td>0.0</td>\n",
       "      <td>1</td>\n",
       "    </tr>\n",
       "    <tr>\n",
       "      <th>000113f07ec002fd</th>\n",
       "      <td>hey man  i m really not trying to edit war  it...</td>\n",
       "      <td>0.0</td>\n",
       "      <td>1</td>\n",
       "    </tr>\n",
       "    <tr>\n",
       "      <th>0001b41b1c6bb37e</th>\n",
       "      <td>more i can t make any real suggestions on im...</td>\n",
       "      <td>0.0</td>\n",
       "      <td>1</td>\n",
       "    </tr>\n",
       "    <tr>\n",
       "      <th>0001d958c54c6e35</th>\n",
       "      <td>you  sir  are my hero  any chance you remember...</td>\n",
       "      <td>0.0</td>\n",
       "      <td>1</td>\n",
       "    </tr>\n",
       "  </tbody>\n",
       "</table>\n",
       "</div>"
      ],
      "text/plain": [
       "                                                       comment_text  ...    black\n",
       "id                                                                   ...         \n",
       "0000997932d777bf  explanation why the edits made under my userna...  ...        1\n",
       "000103f0d9cfb60f  d aww  he matches this background colour i m s...  ...        1\n",
       "000113f07ec002fd  hey man  i m really not trying to edit war  it...  ...        1\n",
       "0001b41b1c6bb37e    more i can t make any real suggestions on im...  ...        1\n",
       "0001d958c54c6e35  you  sir  are my hero  any chance you remember...  ...        1\n",
       "\n",
       "[5 rows x 3 columns]"
      ]
     },
     "execution_count": 14,
     "metadata": {},
     "output_type": "execute_result"
    }
   ],
   "source": [
    "#NEW\n",
    "print(old_not_toxic.shape)\n",
    "g1=old_not_toxic.iloc[0:24082,]\n",
    "g2=old_not_toxic.iloc[24082:24082+15011,]\n",
    "g3=old_not_toxic.iloc[24082+15011:24082+15011+33568,]\n",
    "g4=old_not_toxic.iloc[24082+15011+33568:24082+15011+33568+18836,]\n",
    "g5=old_not_toxic.iloc[24082+15011+33568+18836:24082+15011+33568+18836+3694,]\n",
    "g6=old_not_toxic.iloc[24082+15011+33568+18836+3694:24082+15011+33568+18836+3694+2682,]\n",
    "g7=old_not_toxic.iloc[24082+15011+33568+18836+3694+2682:24082+15011+33568+18836+3694+2682+11224,]\n",
    "g8=old_not_toxic.iloc[24082+15011+33568+18836+3694+2682+11224:24082+15011+33568+18836+3694+2682+11224+7496,]\n",
    "g9=old_not_toxic_test.iloc[0:1934,]\n",
    "g10=old_not_toxic_test.iloc[1934:1934+1229,]\n",
    "g11=old_not_toxic_test.iloc[1934+1229:1934+1229+139,]\n",
    "g12=old_not_toxic_test.iloc[1934+1229+139:1934+1229+139+130,]\n",
    "\n",
    "\n",
    "g1=g1.copy(deep=True)\n",
    "g2=g2.copy(deep=True)\n",
    "g3=g3.copy(deep=True)\n",
    "g4=g4.copy(deep=True)\n",
    "g5=g5.copy(deep=True)\n",
    "g6=g6.copy(deep=True)\n",
    "g7=g7.copy(deep=True)\n",
    "g8=g8.copy(deep=True)\n",
    "g9=g9.copy(deep=True)\n",
    "g10=g10.copy(deep=True)\n",
    "g11=g11.copy(deep=True)\n",
    "g12=g12.copy(deep=True)\n",
    "\n",
    "\n",
    "g1['black']=1\n",
    "g2['homosexual_gay_or_lesbian']=1\n",
    "g3['white']=1\n",
    "g4['muslim']=1\n",
    "g5['psychiatric_or_mental_illness']=1\n",
    "g6['jewish']=1\n",
    "g7['male']=1\n",
    "g8['female']=1\n",
    "g9['transgender']=1\n",
    "g10['latino']=1\n",
    "g11['asian']=1\n",
    "g12['atheist']=1\n",
    "\n",
    "print('black',g1.shape)\n",
    "print('homosexual_gay_or_lesbian',g2.shape)\n",
    "print('white',g3.shape)\n",
    "print('muslim',g4.shape)\n",
    "print('psychiatric_or_mental_illness',g5.shape)\n",
    "print('jewish',g6.shape)\n",
    "print('male',g7.shape)\n",
    "print('female',g8.shape)\n",
    "print('transgender',g9.shape)\n",
    "print('latino',g10.shape)\n",
    "print('asian',g11.shape)\n",
    "print('atheist',g12.shape)\n",
    "\n",
    "print('train before append:',train.shape)\n",
    "train=pd.concat([train,g1,g2,g3,g4,g5,g6,g7,g8,g9,g10,g11,g12])\n",
    "train = convert_dataframe_to_bool(train)\n",
    "print('train after append:',train.shape)\n",
    "\n",
    "g1.head()"
   ]
  },
  {
   "cell_type": "code",
   "execution_count": 15,
   "metadata": {
    "colab": {
     "base_uri": "https://localhost:8080/",
     "height": 328
    },
    "colab_type": "code",
    "id": "fktm7qiNt8uk",
    "outputId": "a8b0a727-c502-41f3-8e4d-33694d3a36b1"
   },
   "outputs": [
    {
     "data": {
      "text/html": [
       "<div>\n",
       "<style scoped>\n",
       "    .dataframe tbody tr th:only-of-type {\n",
       "        vertical-align: middle;\n",
       "    }\n",
       "\n",
       "    .dataframe tbody tr th {\n",
       "        vertical-align: top;\n",
       "    }\n",
       "\n",
       "    .dataframe thead th {\n",
       "        text-align: right;\n",
       "    }\n",
       "</style>\n",
       "<table border=\"1\" class=\"dataframe\">\n",
       "  <thead>\n",
       "    <tr style=\"text-align: right;\">\n",
       "      <th></th>\n",
       "      <th>False</th>\n",
       "      <th>True</th>\n",
       "      <th>Total</th>\n",
       "      <th>pFalse</th>\n",
       "    </tr>\n",
       "  </thead>\n",
       "  <tbody>\n",
       "    <tr>\n",
       "      <th>latino</th>\n",
       "      <td>2845</td>\n",
       "      <td>388</td>\n",
       "      <td>3233</td>\n",
       "      <td>0.879988</td>\n",
       "    </tr>\n",
       "    <tr>\n",
       "      <th>transgender</th>\n",
       "      <td>3901</td>\n",
       "      <td>532</td>\n",
       "      <td>4433</td>\n",
       "      <td>0.879991</td>\n",
       "    </tr>\n",
       "    <tr>\n",
       "      <th>psychiatric_or_mental_illness</th>\n",
       "      <td>7553</td>\n",
       "      <td>1030</td>\n",
       "      <td>8583</td>\n",
       "      <td>0.879995</td>\n",
       "    </tr>\n",
       "    <tr>\n",
       "      <th>jewish</th>\n",
       "      <td>9093</td>\n",
       "      <td>1240</td>\n",
       "      <td>10333</td>\n",
       "      <td>0.879996</td>\n",
       "    </tr>\n",
       "    <tr>\n",
       "      <th>homosexual_gay_or_lesbian</th>\n",
       "      <td>22887</td>\n",
       "      <td>3121</td>\n",
       "      <td>26008</td>\n",
       "      <td>0.879998</td>\n",
       "    </tr>\n",
       "    <tr>\n",
       "      <th>black</th>\n",
       "      <td>34305</td>\n",
       "      <td>4678</td>\n",
       "      <td>38983</td>\n",
       "      <td>0.879999</td>\n",
       "    </tr>\n",
       "    <tr>\n",
       "      <th>male</th>\n",
       "      <td>49023</td>\n",
       "      <td>6685</td>\n",
       "      <td>55708</td>\n",
       "      <td>0.879999</td>\n",
       "    </tr>\n",
       "    <tr>\n",
       "      <th>female</th>\n",
       "      <td>53614</td>\n",
       "      <td>7311</td>\n",
       "      <td>60925</td>\n",
       "      <td>0.880000</td>\n",
       "    </tr>\n",
       "    <tr>\n",
       "      <th>white</th>\n",
       "      <td>51612</td>\n",
       "      <td>7038</td>\n",
       "      <td>58650</td>\n",
       "      <td>0.880000</td>\n",
       "    </tr>\n",
       "    <tr>\n",
       "      <th>muslim</th>\n",
       "      <td>35061</td>\n",
       "      <td>4781</td>\n",
       "      <td>39842</td>\n",
       "      <td>0.880001</td>\n",
       "    </tr>\n",
       "    <tr>\n",
       "      <th>asian</th>\n",
       "      <td>4151</td>\n",
       "      <td>566</td>\n",
       "      <td>4717</td>\n",
       "      <td>0.880008</td>\n",
       "    </tr>\n",
       "    <tr>\n",
       "      <th>atheist</th>\n",
       "      <td>1357</td>\n",
       "      <td>185</td>\n",
       "      <td>1542</td>\n",
       "      <td>0.880026</td>\n",
       "    </tr>\n",
       "    <tr>\n",
       "      <th>christian</th>\n",
       "      <td>36750</td>\n",
       "      <td>3673</td>\n",
       "      <td>40423</td>\n",
       "      <td>0.909136</td>\n",
       "    </tr>\n",
       "  </tbody>\n",
       "</table>\n",
       "</div>"
      ],
      "text/plain": [
       "                               False  True  Total    pFalse\n",
       "latino                          2845   388   3233  0.879988\n",
       "transgender                     3901   532   4433  0.879991\n",
       "psychiatric_or_mental_illness   7553  1030   8583  0.879995\n",
       "jewish                          9093  1240  10333  0.879996\n",
       "homosexual_gay_or_lesbian      22887  3121  26008  0.879998\n",
       "black                          34305  4678  38983  0.879999\n",
       "male                           49023  6685  55708  0.879999\n",
       "female                         53614  7311  60925  0.880000\n",
       "white                          51612  7038  58650  0.880000\n",
       "muslim                         35061  4781  39842  0.880001\n",
       "asian                           4151   566   4717  0.880008\n",
       "atheist                         1357   185   1542  0.880026\n",
       "christian                      36750  3673  40423  0.909136"
      ]
     },
     "execution_count": 15,
     "metadata": {},
     "output_type": "execute_result"
    }
   ],
   "source": [
    "cant = pd.DataFrame([\n",
    "                    [train[train['male']==True].target.value_counts()[0],\n",
    "                     train[train['male']==True].target.value_counts()[1]],\n",
    "    [train[train['female']==True].target.value_counts()[0],\n",
    "                     train[train['female']==True].target.value_counts()[1]],\n",
    "    [train[train['homosexual_gay_or_lesbian']==True].target.value_counts()[0],\n",
    "                     train[train['homosexual_gay_or_lesbian']==True].target.value_counts()[1]],\n",
    "    [train[train['christian']==True].target.value_counts()[0],\n",
    "                     train[train['christian']==True].target.value_counts()[1]],\n",
    "    [train[train['jewish']==True].target.value_counts()[0],\n",
    "                     train[train['jewish']==True].target.value_counts()[1]],\n",
    "    [train[train['muslim']==True].target.value_counts()[0],\n",
    "                     train[train['muslim']==True].target.value_counts()[1]],\n",
    "    [train[train['black']==True].target.value_counts()[0],\n",
    "                     train[train['black']==True].target.value_counts()[1]],\n",
    "    [train[train['white']==True].target.value_counts()[0],\n",
    "                     train[train['white']==True].target.value_counts()[1]],\n",
    "    [train[train['psychiatric_or_mental_illness']==True].target.value_counts()[0],\n",
    "                     train[train['psychiatric_or_mental_illness']==True].target.value_counts()[1]],\n",
    "    [train[train['asian']==True].target.value_counts()[0],\n",
    "                     train[train['asian']==True].target.value_counts()[1]],\n",
    "    [train[train['transgender']==True].target.value_counts()[0],\n",
    "                     train[train['transgender']==True].target.value_counts()[1]],\n",
    "    [train[train['latino']==True].target.value_counts()[0],\n",
    "                     train[train['latino']==True].target.value_counts()[1]],\n",
    "    [train[train['atheist']==True].target.value_counts()[0],\n",
    "                     train[train['atheist']==True].target.value_counts()[1]]    \n",
    "      ]\n",
    "                    ,index= identity_columns, columns=['False','True'])\n",
    "\n",
    "cant['Total']=cant['False']+cant['True']\n",
    "cant['pFalse']=cant['False']/cant['Total']\n",
    "cant.sort_values(by='pFalse',inplace=True)\n",
    "cant"
   ]
  },
  {
   "cell_type": "markdown",
   "metadata": {
    "colab_type": "text",
    "id": "HPhFZ-G9-aJe"
   },
   "source": [
    "## Split the data into 80% train and 20% validate sets"
   ]
  },
  {
   "cell_type": "code",
   "execution_count": 16,
   "metadata": {
    "colab": {
     "base_uri": "https://localhost:8080/",
     "height": 34
    },
    "colab_type": "code",
    "id": "npFkqzY1-aJg",
    "outputId": "9c1ab156-596f-4ef5-b21d-af0aaea28ef6"
   },
   "outputs": [
    {
     "name": "stdout",
     "output_type": "stream",
     "text": [
      "1732409 train comments, 192490 validate comments\n"
     ]
    }
   ],
   "source": [
    "train_df, validate_df = model_selection.train_test_split(train, test_size=0.1)\n",
    "print('%d train comments, %d validate comments' % (len(train_df), len(validate_df)))\n"
   ]
  },
  {
   "cell_type": "markdown",
   "metadata": {
    "colab_type": "text",
    "id": "K1VzD0fr-aJp"
   },
   "source": [
    "## Create a text tokenizer"
   ]
  },
  {
   "cell_type": "code",
   "execution_count": 17,
   "metadata": {
    "colab": {},
    "colab_type": "code",
    "id": "yzN0qXWF-aJr"
   },
   "outputs": [],
   "source": [
    "MAX_NUM_WORDS = 10000\n",
    "TOXICITY_COLUMN = 'target'\n",
    "TEXT_COLUMN = 'comment_text'\n",
    "\n",
    "# Create a text tokenizer.\n",
    "tokenizer = Tokenizer(num_words=MAX_NUM_WORDS)\n",
    "tokenizer.fit_on_texts(train_df[TEXT_COLUMN])\n",
    "\n",
    "# All comments must be truncated or padded to be the same length.\n",
    "MAX_SEQUENCE_LENGTH = 250\n",
    "def pad_text(texts, tokenizer):\n",
    "    return pad_sequences(tokenizer.texts_to_sequences(texts), maxlen=MAX_SEQUENCE_LENGTH)"
   ]
  },
  {
   "cell_type": "markdown",
   "metadata": {
    "colab_type": "text",
    "id": "IFRXW3h5-aJw"
   },
   "source": [
    "## Define and train a Convolutional Neural Net for classifying toxic comments"
   ]
  },
  {
   "cell_type": "code",
   "execution_count": 18,
   "metadata": {
    "colab": {},
    "colab_type": "code",
    "id": "F8MPZfMk-n9Z"
   },
   "outputs": [],
   "source": [
    "from keras import backend as K \n",
    "K.clear_session()"
   ]
  },
  {
   "cell_type": "code",
   "execution_count": 19,
   "metadata": {
    "colab": {
     "base_uri": "https://localhost:8080/",
     "height": 357
    },
    "colab_type": "code",
    "id": "R_lTOfIc-aJy",
    "outputId": "0324a3fb-d897-4cb4-ae0c-09360cb40c5c"
   },
   "outputs": [
    {
     "name": "stdout",
     "output_type": "stream",
     "text": [
      "WARNING:tensorflow:From /opt/conda/lib/python3.6/site-packages/tensorflow/python/framework/op_def_library.py:263: colocate_with (from tensorflow.python.framework.ops) is deprecated and will be removed in a future version.\n",
      "Instructions for updating:\n",
      "Colocations handled automatically by placer.\n",
      "loading embeddings\n",
      "compiling model\n",
      "WARNING:tensorflow:From /opt/conda/lib/python3.6/site-packages/keras/backend/tensorflow_backend.py:3445: calling dropout (from tensorflow.python.ops.nn_ops) with keep_prob is deprecated and will be removed in a future version.\n",
      "Instructions for updating:\n",
      "Please use `rate` instead of `keep_prob`. Rate should be set to `rate = 1 - keep_prob`.\n",
      "training model\n",
      "WARNING:tensorflow:From /opt/conda/lib/python3.6/site-packages/tensorflow/python/ops/math_ops.py:3066: to_int32 (from tensorflow.python.ops.math_ops) is deprecated and will be removed in a future version.\n",
      "Instructions for updating:\n",
      "Use tf.cast instead.\n",
      "Train on 1732409 samples, validate on 192490 samples\n",
      "Epoch 1/5\n",
      " - 85s - loss: 0.1507 - acc: 0.9463 - val_loss: 0.1457 - val_acc: 0.9430\n",
      "Epoch 2/5\n",
      " - 82s - loss: 0.1396 - acc: 0.9492 - val_loss: 0.1435 - val_acc: 0.9478\n",
      "Epoch 3/5\n",
      " - 82s - loss: 0.1368 - acc: 0.9500 - val_loss: 0.1332 - val_acc: 0.9515\n",
      "Epoch 4/5\n",
      " - 82s - loss: 0.1353 - acc: 0.9503 - val_loss: 0.1330 - val_acc: 0.9517\n",
      "Epoch 5/5\n",
      " - 81s - loss: 0.1342 - acc: 0.9509 - val_loss: 0.1370 - val_acc: 0.9494\n"
     ]
    }
   ],
   "source": [
    "EMBEDDINGS_PATH = \"../input/bandida/glove.6B.100d.txt\"\n",
    "EMBEDDINGS_DIMENSION = 100\n",
    "DROPOUT_RATE = 0.5\n",
    "LEARNING_RATE = 0.00001\n",
    "NUM_EPOCHS = 5\n",
    "BATCH_SIZE = 200\n",
    "\n",
    "opt1=RMSprop(lr=LEARNING_RATE)\n",
    "opt2=Adadelta()\n",
    "opt3=Nadam()\n",
    "OPT=opt3\n",
    "\n",
    "\n",
    "\n",
    "def train_model(train_df, validate_df, tokenizer):\n",
    "    # Prepare data\n",
    "    train_text = pad_text(train_df[TEXT_COLUMN], tokenizer)\n",
    "    validate_text = pad_text(validate_df[TEXT_COLUMN], tokenizer)\n",
    "    \n",
    "    #train_labels = train_df[TOXICITY_COLUMN]\n",
    "    #validate_labels = validate_df[TOXICITY_COLUMN]\n",
    "    \n",
    "    train_labels = to_categorical(train_df[TOXICITY_COLUMN])\n",
    "    validate_labels = to_categorical(validate_df[TOXICITY_COLUMN])\n",
    "\n",
    "    # Load embeddings\n",
    "    print('loading embeddings')\n",
    "    embeddings_index = {}\n",
    "    with open(EMBEDDINGS_PATH) as f:\n",
    "        for line in f:\n",
    "            values = line.split()\n",
    "            word = values[0]\n",
    "            coefs = np.asarray(values[1:], dtype='float32')\n",
    "            embeddings_index[word] = coefs\n",
    "\n",
    "    embedding_matrix = np.zeros((len(tokenizer.word_index) + 1,\n",
    "                                 EMBEDDINGS_DIMENSION))\n",
    "    num_words_in_embedding = 0\n",
    "    for word, i in tokenizer.word_index.items():\n",
    "        embedding_vector = embeddings_index.get(word)\n",
    "        if embedding_vector is not None:\n",
    "            num_words_in_embedding += 1\n",
    "            # words not found in embedding index will be all-zeros.\n",
    "            embedding_matrix[i] = embedding_vector\n",
    "\n",
    "    # Create model layers.\n",
    "    def get_convolutional_neural_net_layers():\n",
    "        \"\"\"Returns (input_layer, output_layer)\"\"\"\n",
    "        sequence_input = Input(shape=(MAX_SEQUENCE_LENGTH,), dtype='int32')\n",
    "        embedding_layer = Embedding(len(tokenizer.word_index) + 1,\n",
    "                                    EMBEDDINGS_DIMENSION,\n",
    "                                    weights=[embedding_matrix],\n",
    "                                    input_length=MAX_SEQUENCE_LENGTH,\n",
    "                                    trainable=False)\n",
    "        x = embedding_layer(sequence_input)\n",
    "        x = Conv1D(128, 2, activation='relu', padding='same')(x)\n",
    "        x = MaxPooling1D(5, padding='same')(x)\n",
    "        x = Conv1D(128, 3, activation='relu', padding='same')(x)\n",
    "        x = MaxPooling1D(5, padding='same')(x)\n",
    "        x = Conv1D(128, 4, activation='relu', padding='same')(x)\n",
    "        x = MaxPooling1D(40, padding='same')(x)\n",
    "        x = Flatten()(x)\n",
    "        x = Dropout(DROPOUT_RATE)(x)\n",
    "        x = Dense(128, activation='relu')(x)\n",
    "        preds = Dense(2, activation='softmax')(x)\n",
    "        return sequence_input, preds\n",
    "\n",
    "    \n",
    "    # Compile model.\n",
    "    print('compiling model')\n",
    "    input_layer, output_layer = get_convolutional_neural_net_layers()\n",
    "    model = Model(input_layer, output_layer)\n",
    "    \n",
    "    #model.load_weights('../input/weights/my_model_weights-2.h5')\n",
    "    \n",
    "    model.compile(loss='categorical_crossentropy',\n",
    "                  optimizer=OPT,\n",
    "                  metrics=['acc'])\n",
    "\n",
    "    fBestModel = 'best_model.h5'\n",
    "    best_model = ModelCheckpoint(fBestModel, verbose=0, save_best_only=True)\n",
    "    # Train model.\n",
    "    print('training model')\n",
    "    model.fit(train_text,\n",
    "              train_labels,\n",
    "              batch_size=BATCH_SIZE,\n",
    "              epochs=NUM_EPOCHS,\n",
    "              validation_data=(validate_text, validate_labels),\n",
    "              verbose=2,\n",
    "              callbacks=[best_model])\n",
    "\n",
    "    return model\n",
    "\n",
    "model = train_model(train_df, validate_df, tokenizer)\n",
    "#model.save_weights('my_model_weights.h5')"
   ]
  },
  {
   "cell_type": "code",
   "execution_count": 20,
   "metadata": {
    "colab": {},
    "colab_type": "code",
    "id": "ZsAvwDUA8gdV"
   },
   "outputs": [],
   "source": []
  },
  {
   "cell_type": "markdown",
   "metadata": {
    "colab_type": "text",
    "id": "G-Fbd_jP-aJ3"
   },
   "source": [
    "## Generate model predictions on the validation set"
   ]
  },
  {
   "cell_type": "code",
   "execution_count": 20,
   "metadata": {
    "colab": {
     "base_uri": "https://localhost:8080/",
     "height": 159
    },
    "colab_type": "code",
    "id": "_Puhztps-aJ4",
    "outputId": "e67c4e9d-a5ba-43aa-cec5-46fb1d385f8c"
   },
   "outputs": [
    {
     "name": "stderr",
     "output_type": "stream",
     "text": [
      "/opt/conda/lib/python3.6/site-packages/ipykernel_launcher.py:2: SettingWithCopyWarning: \n",
      "A value is trying to be set on a copy of a slice from a DataFrame.\n",
      "Try using .loc[row_indexer,col_indexer] = value instead\n",
      "\n",
      "See the caveats in the documentation: http://pandas.pydata.org/pandas-docs/stable/indexing.html#indexing-view-versus-copy\n",
      "  \n"
     ]
    }
   ],
   "source": [
    "MODEL_NAME = 'my_model'\n",
    "validate_df[MODEL_NAME] = model.predict(pad_text(validate_df[TEXT_COLUMN], tokenizer))[:, 1]"
   ]
  },
  {
   "cell_type": "markdown",
   "metadata": {
    "colab_type": "text",
    "id": "riex1uSR-aKG"
   },
   "source": [
    "## Define bias metrics, then evaluate our new model for bias using the validation set predictions"
   ]
  },
  {
   "cell_type": "code",
   "execution_count": 21,
   "metadata": {
    "colab": {
     "base_uri": "https://localhost:8080/",
     "height": 328
    },
    "colab_type": "code",
    "id": "edxbaERi-aKI",
    "outputId": "a2cba74a-f19a-4b81-b9bf-c0995e88cee5"
   },
   "outputs": [
    {
     "data": {
      "text/html": [
       "<div>\n",
       "<style scoped>\n",
       "    .dataframe tbody tr th:only-of-type {\n",
       "        vertical-align: middle;\n",
       "    }\n",
       "\n",
       "    .dataframe tbody tr th {\n",
       "        vertical-align: top;\n",
       "    }\n",
       "\n",
       "    .dataframe thead th {\n",
       "        text-align: right;\n",
       "    }\n",
       "</style>\n",
       "<table border=\"1\" class=\"dataframe\">\n",
       "  <thead>\n",
       "    <tr style=\"text-align: right;\">\n",
       "      <th></th>\n",
       "      <th>bnsp_auc</th>\n",
       "      <th>bpsn_auc</th>\n",
       "      <th>subgroup</th>\n",
       "      <th>subgroup_auc</th>\n",
       "      <th>subgroup_size</th>\n",
       "    </tr>\n",
       "  </thead>\n",
       "  <tbody>\n",
       "    <tr>\n",
       "      <th>12</th>\n",
       "      <td>0.879839</td>\n",
       "      <td>0.915535</td>\n",
       "      <td>atheist</td>\n",
       "      <td>0.849268</td>\n",
       "      <td>147</td>\n",
       "    </tr>\n",
       "    <tr>\n",
       "      <th>4</th>\n",
       "      <td>0.920783</td>\n",
       "      <td>0.901146</td>\n",
       "      <td>jewish</td>\n",
       "      <td>0.863557</td>\n",
       "      <td>1024</td>\n",
       "    </tr>\n",
       "    <tr>\n",
       "      <th>10</th>\n",
       "      <td>0.929049</td>\n",
       "      <td>0.894541</td>\n",
       "      <td>transgender</td>\n",
       "      <td>0.871982</td>\n",
       "      <td>463</td>\n",
       "    </tr>\n",
       "    <tr>\n",
       "      <th>9</th>\n",
       "      <td>0.920196</td>\n",
       "      <td>0.909289</td>\n",
       "      <td>asian</td>\n",
       "      <td>0.883195</td>\n",
       "      <td>501</td>\n",
       "    </tr>\n",
       "    <tr>\n",
       "      <th>1</th>\n",
       "      <td>0.947308</td>\n",
       "      <td>0.897702</td>\n",
       "      <td>female</td>\n",
       "      <td>0.900377</td>\n",
       "      <td>6087</td>\n",
       "    </tr>\n",
       "    <tr>\n",
       "      <th>3</th>\n",
       "      <td>0.926397</td>\n",
       "      <td>0.920758</td>\n",
       "      <td>christian</td>\n",
       "      <td>0.901271</td>\n",
       "      <td>4054</td>\n",
       "    </tr>\n",
       "    <tr>\n",
       "      <th>0</th>\n",
       "      <td>0.950699</td>\n",
       "      <td>0.895315</td>\n",
       "      <td>male</td>\n",
       "      <td>0.901991</td>\n",
       "      <td>5534</td>\n",
       "    </tr>\n",
       "    <tr>\n",
       "      <th>5</th>\n",
       "      <td>0.946373</td>\n",
       "      <td>0.907410</td>\n",
       "      <td>muslim</td>\n",
       "      <td>0.907041</td>\n",
       "      <td>4016</td>\n",
       "    </tr>\n",
       "    <tr>\n",
       "      <th>11</th>\n",
       "      <td>0.950506</td>\n",
       "      <td>0.908756</td>\n",
       "      <td>latino</td>\n",
       "      <td>0.915429</td>\n",
       "      <td>339</td>\n",
       "    </tr>\n",
       "    <tr>\n",
       "      <th>7</th>\n",
       "      <td>0.963323</td>\n",
       "      <td>0.909086</td>\n",
       "      <td>white</td>\n",
       "      <td>0.925949</td>\n",
       "      <td>5985</td>\n",
       "    </tr>\n",
       "    <tr>\n",
       "      <th>2</th>\n",
       "      <td>0.966183</td>\n",
       "      <td>0.907639</td>\n",
       "      <td>homosexual_gay_or_lesbian</td>\n",
       "      <td>0.929844</td>\n",
       "      <td>2696</td>\n",
       "    </tr>\n",
       "    <tr>\n",
       "      <th>6</th>\n",
       "      <td>0.961690</td>\n",
       "      <td>0.920456</td>\n",
       "      <td>black</td>\n",
       "      <td>0.936547</td>\n",
       "      <td>4049</td>\n",
       "    </tr>\n",
       "    <tr>\n",
       "      <th>8</th>\n",
       "      <td>0.959959</td>\n",
       "      <td>0.920008</td>\n",
       "      <td>psychiatric_or_mental_illness</td>\n",
       "      <td>0.941365</td>\n",
       "      <td>884</td>\n",
       "    </tr>\n",
       "  </tbody>\n",
       "</table>\n",
       "</div>"
      ],
      "text/plain": [
       "    bnsp_auc  bpsn_auc      ...       subgroup_auc  subgroup_size\n",
       "12  0.879839  0.915535      ...           0.849268            147\n",
       "4   0.920783  0.901146      ...           0.863557           1024\n",
       "10  0.929049  0.894541      ...           0.871982            463\n",
       "9   0.920196  0.909289      ...           0.883195            501\n",
       "1   0.947308  0.897702      ...           0.900377           6087\n",
       "3   0.926397  0.920758      ...           0.901271           4054\n",
       "0   0.950699  0.895315      ...           0.901991           5534\n",
       "5   0.946373  0.907410      ...           0.907041           4016\n",
       "11  0.950506  0.908756      ...           0.915429            339\n",
       "7   0.963323  0.909086      ...           0.925949           5985\n",
       "2   0.966183  0.907639      ...           0.929844           2696\n",
       "6   0.961690  0.920456      ...           0.936547           4049\n",
       "8   0.959959  0.920008      ...           0.941365            884\n",
       "\n",
       "[13 rows x 5 columns]"
      ]
     },
     "execution_count": 21,
     "metadata": {},
     "output_type": "execute_result"
    }
   ],
   "source": [
    "SUBGROUP_AUC = 'subgroup_auc'\n",
    "BPSN_AUC = 'bpsn_auc'  # stands for background positive, subgroup negative\n",
    "BNSP_AUC = 'bnsp_auc'  # stands for background negative, subgroup positive\n",
    "\n",
    "def compute_auc(y_true, y_pred):\n",
    "    try:\n",
    "        return metrics.roc_auc_score(y_true, y_pred)\n",
    "    except ValueError:\n",
    "        return np.nan\n",
    "\n",
    "def compute_subgroup_auc(df, subgroup, label, model_name):\n",
    "    subgroup_examples = df[df[subgroup]]\n",
    "    return compute_auc(subgroup_examples[label], subgroup_examples[model_name])\n",
    "\n",
    "def compute_bpsn_auc(df, subgroup, label, model_name):\n",
    "    \"\"\"Computes the AUC of the within-subgroup negative examples and the background positive examples.\"\"\"\n",
    "    subgroup_negative_examples = df[df[subgroup] & ~df[label]]\n",
    "    non_subgroup_positive_examples = df[~df[subgroup] & df[label]]\n",
    "    examples = subgroup_negative_examples.append(non_subgroup_positive_examples)\n",
    "    return compute_auc(examples[label], examples[model_name])\n",
    "\n",
    "def compute_bnsp_auc(df, subgroup, label, model_name):\n",
    "    \"\"\"Computes the AUC of the within-subgroup positive examples and the background negative examples.\"\"\"\n",
    "    subgroup_positive_examples = df[df[subgroup] & df[label]]\n",
    "    non_subgroup_negative_examples = df[~df[subgroup] & ~df[label]]\n",
    "    examples = subgroup_positive_examples.append(non_subgroup_negative_examples)\n",
    "    return compute_auc(examples[label], examples[model_name])\n",
    "\n",
    "def compute_bias_metrics_for_model(dataset,\n",
    "                                   subgroups,\n",
    "                                   model,\n",
    "                                   label_col,\n",
    "                                   include_asegs=False):\n",
    "    \"\"\"Computes per-subgroup metrics for all subgroups and one model.\"\"\"\n",
    "    records = []\n",
    "    for subgroup in subgroups:\n",
    "        record = {\n",
    "            'subgroup': subgroup,\n",
    "            'subgroup_size': len(dataset[dataset[subgroup]])\n",
    "        }\n",
    "        record[SUBGROUP_AUC] = compute_subgroup_auc(dataset, subgroup, label_col, model)\n",
    "        record[BPSN_AUC] = compute_bpsn_auc(dataset, subgroup, label_col, model)\n",
    "        record[BNSP_AUC] = compute_bnsp_auc(dataset, subgroup, label_col, model)\n",
    "        records.append(record)\n",
    "    return pd.DataFrame(records).sort_values('subgroup_auc', ascending=True)\n",
    "\n",
    "bias_metrics_df = compute_bias_metrics_for_model(validate_df, identity_columns, MODEL_NAME, TOXICITY_COLUMN)\n",
    "bias_metrics_df\n"
   ]
  },
  {
   "cell_type": "markdown",
   "metadata": {
    "colab_type": "text",
    "id": "OzyVNCrG-aKO"
   },
   "source": [
    "## Calculate the final score"
   ]
  },
  {
   "cell_type": "code",
   "execution_count": 22,
   "metadata": {
    "colab": {
     "base_uri": "https://localhost:8080/",
     "height": 34
    },
    "colab_type": "code",
    "id": "QPW0N1M0-aKP",
    "outputId": "53a78737-5e46-4c72-b22b-1e941adf4275"
   },
   "outputs": [
    {
     "data": {
      "text/plain": [
       "0.9212648312778482"
      ]
     },
     "execution_count": 22,
     "metadata": {},
     "output_type": "execute_result"
    }
   ],
   "source": [
    "def calculate_overall_auc(df, model_name):\n",
    "    true_labels = df[TOXICITY_COLUMN]\n",
    "    predicted_labels = df[model_name]\n",
    "    return metrics.roc_auc_score(true_labels, predicted_labels)\n",
    "\n",
    "def power_mean(series, p):\n",
    "    total = sum(np.power(series, p))\n",
    "    return np.power(total / len(series), 1 / p)\n",
    "\n",
    "def get_final_metric(bias_df, overall_auc, POWER=-5, OVERALL_MODEL_WEIGHT=0.25):\n",
    "    bias_score = np.average([\n",
    "        power_mean(bias_df[SUBGROUP_AUC], POWER),\n",
    "        power_mean(bias_df[BPSN_AUC], POWER),\n",
    "        power_mean(bias_df[BNSP_AUC], POWER)\n",
    "    ])\n",
    "    return (OVERALL_MODEL_WEIGHT * overall_auc) + ((1 - OVERALL_MODEL_WEIGHT) * bias_score)\n",
    "    \n",
    "get_final_metric(bias_metrics_df, calculate_overall_auc(validate_df, MODEL_NAME))"
   ]
  },
  {
   "cell_type": "markdown",
   "metadata": {
    "colab_type": "text",
    "id": "4J0Zo3EL-aKV"
   },
   "source": [
    "## Prediction on Test data"
   ]
  },
  {
   "cell_type": "code",
   "execution_count": 23,
   "metadata": {
    "colab": {},
    "colab_type": "code",
    "id": "OgrRDFnC-aKW"
   },
   "outputs": [],
   "source": [
    "#test = pd.read_csv('../input/jigsaw-unintended-bias-in-toxicity-classification/test.csv')\n",
    "submission = pd.read_csv('../input/jigsaw-unintended-bias-in-toxicity-classification/sample_submission.csv', index_col='id')"
   ]
  },
  {
   "cell_type": "code",
   "execution_count": 24,
   "metadata": {
    "colab": {},
    "colab_type": "code",
    "id": "DpB--CXS-aKa"
   },
   "outputs": [],
   "source": [
    "submission['prediction'] = model.predict(pad_text(test[TEXT_COLUMN], tokenizer))[:, 1]\n",
    "submission.to_csv('submission.csv')"
   ]
  },
  {
   "cell_type": "code",
   "execution_count": 25,
   "metadata": {},
   "outputs": [],
   "source": []
  }
 ],
 "metadata": {
  "accelerator": "GPU",
  "colab": {
   "collapsed_sections": [],
   "name": "benchmark-kernel.ipynb",
   "provenance": [],
   "toc_visible": true,
   "version": "0.3.2"
  },
  "kernelspec": {
   "display_name": "Python 3",
   "name": "python3"
  },
  "language_info": {
   "codemirror_mode": {
    "name": "ipython",
    "version": 3
   },
   "file_extension": ".py",
   "mimetype": "text/x-python",
   "name": "python",
   "nbconvert_exporter": "python",
   "pygments_lexer": "ipython3",
   "version": "3.6.4"
  }
 },
 "nbformat": 4,
 "nbformat_minor": 1
}
